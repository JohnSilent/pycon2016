{
 "cells": [
  {
   "cell_type": "markdown",
   "metadata": {},
   "source": [
    "# Example 2: Extract method\n",
    "\n",
    "[Extract method in the refactoring catalog.](http://refactoring.com/catalog/extractMethod.html)"
   ]
  },
  {
   "cell_type": "markdown",
   "metadata": {},
   "source": [
    "---\n",
    "\n",
    "Do this when a function is getting too long, doing too many things, or needs to maintain state through loop iterations."
   ]
  },
  {
   "cell_type": "code",
   "execution_count": 15,
   "metadata": {
    "collapsed": true
   },
   "outputs": [],
   "source": [
    "class Grade:\n",
    "    def __init__(self, student, score):\n",
    "        self.student = student\n",
    "        self.score =  score\n",
    "\n",
    "\n",
    "def print_stats(grades):\n",
    "    if not grades:\n",
    "        raise ValueError('Must supply at least one Grade')\n",
    "        \n",
    "    total, count = 0, 0\n",
    "    low, high = float('inf'), float('-inf')\n",
    "    for grade in grades:\n",
    "        total += grade.score\n",
    "        count += 1\n",
    "        if grade.score < low:\n",
    "            low = grade.score\n",
    "        elif grade.score > high:\n",
    "            high = grade.score\n",
    "\n",
    "    average = total / count\n",
    "\n",
    "    print('Average score: %.1f, low score: %.1f, high score %.1f' %\n",
    "          (average, low, high))"
   ]
  },
  {
   "cell_type": "code",
   "execution_count": 16,
   "metadata": {
    "collapsed": false
   },
   "outputs": [
    {
     "name": "stdout",
     "output_type": "stream",
     "text": [
      "Average score: 87.5, low score: 73.0, high score 96.0\n"
     ]
    }
   ],
   "source": [
    "grades = [Grade('Bob', 92), Grade('Sally', 89), Grade('Roger', 73), Grade('Alice', 96)]\n",
    "print_stats(grades)"
   ]
  },
  {
   "cell_type": "markdown",
   "metadata": {},
   "source": [
    "---\n",
    "\n",
    "One bad way to try to do this is with a closure. But this is ugly because you need to use the `nonlocal` keyword. In Python 2 it's even worse."
   ]
  },
  {
   "cell_type": "code",
   "execution_count": 35,
   "metadata": {
    "collapsed": true
   },
   "outputs": [],
   "source": [
    "def print_stats(grades):\n",
    "    if not grades:\n",
    "        raise ValueError('Must supply at least one Grade')\n",
    "        \n",
    "    total, count = 0, 0\n",
    "    low, high = float('inf'), float('-inf')\n",
    "\n",
    "    def adjust_stats(grade):\n",
    "        nonlocal total, count, low, high\n",
    "        total += grade.score\n",
    "        count += 1\n",
    "        if grade.score < low:\n",
    "            low = grade.score\n",
    "        elif grade.score > high:\n",
    "            high = grade.score\n",
    "\n",
    "    for grade in grades:\n",
    "        adjust_stats(grade)\n",
    "            \n",
    "    average = total / count\n",
    "\n",
    "    print('Average score: %.1f, low score: %.1f, high score %.1f' %\n",
    "          (average, low, high))"
   ]
  },
  {
   "cell_type": "code",
   "execution_count": 36,
   "metadata": {
    "collapsed": false
   },
   "outputs": [
    {
     "name": "stdout",
     "output_type": "stream",
     "text": [
      "Average score: 87.5, low score: 73.0, high score 96.0\n"
     ]
    }
   ],
   "source": [
    "print_stats(grades)"
   ]
  },
  {
   "cell_type": "markdown",
   "metadata": {},
   "source": [
    "---\n",
    "\n",
    "What's better is to split the inner closure into a helper class. You make the helper class having a single entrypoint named `__call__` so it acts like a plain function. This is a hint to the reader than the purpose of the class is to be a stateful closure."
   ]
  },
  {
   "cell_type": "code",
   "execution_count": 38,
   "metadata": {
    "collapsed": true
   },
   "outputs": [],
   "source": [
    "class CalculateStats:\n",
    "    def __init__(self):\n",
    "        self.total = 0\n",
    "        self.count = 0\n",
    "        self.low = float('inf')\n",
    "        self.high = float('-inf')\n",
    "\n",
    "    def __call__(self, grades):\n",
    "        for grade in grades:\n",
    "            self.total += grade.score\n",
    "            self.count += 1\n",
    "            if grade.score < self.low:\n",
    "                self.low = grade.score\n",
    "            elif grade.score > self.high:\n",
    "                self.high = grade.score\n",
    "\n",
    "                \n",
    "def print_stats(grades):\n",
    "    if not grades:\n",
    "        raise ValueError('Must supply at least one Grade')\n",
    "\n",
    "    stats = CalculateStats()\n",
    "    stats(grades)\n",
    "    average = stats.total / stats.count\n",
    "\n",
    "    print('Average score: %.1f, low score: %.1f, high score %.1f' %\n",
    "          (average, stats.low, stats.high))"
   ]
  },
  {
   "cell_type": "code",
   "execution_count": 39,
   "metadata": {
    "collapsed": false
   },
   "outputs": [
    {
     "name": "stdout",
     "output_type": "stream",
     "text": [
      "Average score: 87.5, low score: 73.0, high score 96.0\n"
     ]
    }
   ],
   "source": [
    "print_stats(grades)"
   ]
  },
  {
   "cell_type": "markdown",
   "metadata": {},
   "source": [
    "---\n",
    "\n",
    "You can even add other properties to this closure to give the illusion it's doing more bookkeeping than it really is."
   ]
  },
  {
   "cell_type": "code",
   "execution_count": 40,
   "metadata": {
    "collapsed": true
   },
   "outputs": [],
   "source": [
    "class CalculateStats:\n",
    "    def __init__(self):\n",
    "        self.total = 0\n",
    "        self.count = 0\n",
    "        self.low = float('inf')\n",
    "        self.high = float('-inf')\n",
    "\n",
    "    def __call__(self, grades):\n",
    "        for grade in grades:\n",
    "            self.total += grade.score\n",
    "            self.count += 1\n",
    "            if grade.score < self.low:\n",
    "                self.low = grade.score\n",
    "            elif grade.score > self.high:\n",
    "                self.high = grade.score\n",
    "\n",
    "    @property\n",
    "    def average(self):\n",
    "        return self.total / self.count\n",
    "\n",
    "    \n",
    "def print_stats(grades):\n",
    "    if not grades:\n",
    "        raise ValueError('Must supply at least one Grade')\n",
    "\n",
    "    stats = CalculateStats()\n",
    "    stats(grades)\n",
    "\n",
    "    print('Average score: %.1f, low score: %.1f, high score %.1f' %\n",
    "          (stats.average, stats.low, stats.high))"
   ]
  },
  {
   "cell_type": "code",
   "execution_count": 41,
   "metadata": {
    "collapsed": false
   },
   "outputs": [
    {
     "name": "stdout",
     "output_type": "stream",
     "text": [
      "Average score: 87.5, low score: 73.0, high score 96.0\n"
     ]
    }
   ],
   "source": [
    "print_stats(grades)"
   ]
  },
  {
   "cell_type": "markdown",
   "metadata": {},
   "source": [
    "---\n",
    "\n",
    "If you need more than one entrypoint method, you probably need to redraw the boundaries of responsibility between the classes and go for real method names, not just `__call__`."
   ]
  }
 ],
 "metadata": {
  "kernelspec": {
   "display_name": "Python 3",
   "language": "python",
   "name": "python3"
  },
  "language_info": {
   "codemirror_mode": {
    "name": "ipython",
    "version": 3
   },
   "file_extension": ".py",
   "mimetype": "text/x-python",
   "name": "python",
   "nbconvert_exporter": "python",
   "pygments_lexer": "ipython3",
   "version": "3.5.1"
  }
 },
 "nbformat": 4,
 "nbformat_minor": 0
}
