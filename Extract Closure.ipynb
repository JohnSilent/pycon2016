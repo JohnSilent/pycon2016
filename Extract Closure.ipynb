{
 "cells": [
  {
   "cell_type": "markdown",
   "metadata": {},
   "source": [
    "# Example 2: Extract method\n",
    "\n",
    "[Extract method in the refactoring catalog.](http://refactoring.com/catalog/extractMethod.html)"
   ]
  },
  {
   "cell_type": "markdown",
   "metadata": {},
   "source": [
    "---\n",
    "\n",
    "Say you're keeping track of the grades for a set of students in a class. This code works, but the `print_stats` function has a lot going on. If you want to compute any more stats (like median) it's going to get ugly."
   ]
  },
  {
   "cell_type": "code",
   "execution_count": 3,
   "metadata": {
    "collapsed": true
   },
   "outputs": [],
   "source": [
    "class Grade:\n",
    "    def __init__(self, student, score):\n",
    "        self.student = student\n",
    "        self.score =  score\n",
    "\n",
    "\n",
    "def print_stats(grades):\n",
    "    if not grades:\n",
    "        raise ValueError('Must supply at least one Grade')\n",
    "        \n",
    "    total, count = 0, 0\n",
    "    low, high = float('inf'), float('-inf')\n",
    "    for grade in grades:\n",
    "        total += grade.score\n",
    "        count += 1\n",
    "        if grade.score < low:\n",
    "            low = grade.score\n",
    "        elif grade.score > high:\n",
    "            high = grade.score\n",
    "\n",
    "    average = total / count\n",
    "\n",
    "    print('Average score: %.1f, low score: %.1f, high score %.1f' %\n",
    "          (average, low, high))"
   ]
  },
  {
   "cell_type": "code",
   "execution_count": 4,
   "metadata": {
    "collapsed": false
   },
   "outputs": [
    {
     "name": "stdout",
     "output_type": "stream",
     "text": [
      "Average score: 87.5, low score: 73.0, high score 96.0\n"
     ]
    }
   ],
   "source": [
    "grades = [Grade('Bob', 92), Grade('Sally', 89), Grade('Roger', 73), Grade('Alice', 96)]\n",
    "print_stats(grades)"
   ]
  },
  {
   "cell_type": "markdown",
   "metadata": {},
   "source": [
    "---\n",
    "\n",
    "One common way people try to make this more readable is with a closure because it at least isolates the inside of the loop. This is annoying because you need to use the `nonlocal` keyword to make sure the closure works. In Python 2 it's even worse because `nonlocal` isn't available."
   ]
  },
  {
   "cell_type": "code",
   "execution_count": 5,
   "metadata": {
    "collapsed": true
   },
   "outputs": [],
   "source": [
    "def print_stats(grades):\n",
    "    if not grades:\n",
    "        raise ValueError('Must supply at least one Grade')\n",
    "        \n",
    "    total, count = 0, 0\n",
    "    low, high = float('inf'), float('-inf')\n",
    "\n",
    "    def adjust_stats(grade):\n",
    "        nonlocal total, count, low, high\n",
    "        total += grade.score\n",
    "        count += 1\n",
    "        if grade.score < low:\n",
    "            low = grade.score\n",
    "        elif grade.score > high:\n",
    "            high = grade.score\n",
    "\n",
    "    for grade in grades:\n",
    "        adjust_stats(grade)\n",
    "            \n",
    "    average = total / count\n",
    "\n",
    "    print('Average score: %.1f, low score: %.1f, high score %.1f' %\n",
    "          (average, low, high))"
   ]
  },
  {
   "cell_type": "code",
   "execution_count": 6,
   "metadata": {
    "collapsed": false
   },
   "outputs": [
    {
     "name": "stdout",
     "output_type": "stream",
     "text": [
      "Average score: 87.5, low score: 73.0, high score 96.0\n"
     ]
    }
   ],
   "source": [
    "print_stats(grades)"
   ]
  },
  {
   "cell_type": "markdown",
   "metadata": {},
   "source": [
    "---\n",
    "\n",
    "What's better is to split the inner closure into a helper class. You make the helper class having a single entrypoint named `__call__` so it acts like a plain function. The presence of `__call__` is a hint to the reader than the purpose of the class is to be a stateful closure."
   ]
  },
  {
   "cell_type": "code",
   "execution_count": 7,
   "metadata": {
    "collapsed": true
   },
   "outputs": [],
   "source": [
    "class CalculateStats:\n",
    "    def __init__(self):\n",
    "        self.total = 0\n",
    "        self.count = 0\n",
    "        self.low = float('inf')\n",
    "        self.high = float('-inf')\n",
    "\n",
    "    def __call__(self, grades):\n",
    "        for grade in grades:\n",
    "            self.total += grade.score\n",
    "            self.count += 1\n",
    "            if grade.score < self.low:\n",
    "                self.low = grade.score\n",
    "            elif grade.score > self.high:\n",
    "                self.high = grade.score\n",
    "\n",
    "                \n",
    "def print_stats(grades):\n",
    "    if not grades:\n",
    "        raise ValueError('Must supply at least one Grade')\n",
    "\n",
    "    stats = CalculateStats()\n",
    "    stats(grades)\n",
    "    average = stats.total / stats.count\n",
    "\n",
    "    print('Average score: %.1f, low score: %.1f, high score %.1f' %\n",
    "          (average, stats.low, stats.high))"
   ]
  },
  {
   "cell_type": "code",
   "execution_count": 8,
   "metadata": {
    "collapsed": false
   },
   "outputs": [
    {
     "name": "stdout",
     "output_type": "stream",
     "text": [
      "Average score: 87.5, low score: 73.0, high score 96.0\n"
     ]
    }
   ],
   "source": [
    "print_stats(grades)"
   ]
  },
  {
   "cell_type": "markdown",
   "metadata": {},
   "source": [
    "---\n",
    "\n",
    "You can even add other properties to this closure to give the illusion it's doing more bookkeeping than it really is."
   ]
  },
  {
   "cell_type": "code",
   "execution_count": 9,
   "metadata": {
    "collapsed": true
   },
   "outputs": [],
   "source": [
    "class CalculateStats:\n",
    "    def __init__(self):\n",
    "        self.total = 0\n",
    "        self.count = 0\n",
    "        self.low = float('inf')\n",
    "        self.high = float('-inf')\n",
    "\n",
    "    def __call__(self, grades):\n",
    "        for grade in grades:\n",
    "            self.total += grade.score\n",
    "            self.count += 1\n",
    "            if grade.score < self.low:\n",
    "                self.low = grade.score\n",
    "            elif grade.score > self.high:\n",
    "                self.high = grade.score\n",
    "\n",
    "    @property\n",
    "    def average(self):\n",
    "        return self.total / self.count\n",
    "\n",
    "    \n",
    "def print_stats(grades):\n",
    "    if not grades:\n",
    "        raise ValueError('Must supply at least one Grade')\n",
    "\n",
    "    stats = CalculateStats()\n",
    "    stats(grades)\n",
    "\n",
    "    print('Average score: %.1f, low score: %.1f, high score %.1f' %\n",
    "          (stats.average, stats.low, stats.high))"
   ]
  },
  {
   "cell_type": "code",
   "execution_count": 10,
   "metadata": {
    "collapsed": false
   },
   "outputs": [
    {
     "name": "stdout",
     "output_type": "stream",
     "text": [
      "Average score: 87.5, low score: 73.0, high score 96.0\n"
     ]
    }
   ],
   "source": [
    "print_stats(grades)"
   ]
  },
  {
   "cell_type": "markdown",
   "metadata": {},
   "source": [
    "---\n",
    "\n",
    "If you need more than one entrypoint method, you probably need to redraw the boundaries of responsibility between the classes and go for real method names, not just `__call__`."
   ]
  }
 ],
 "metadata": {
  "kernelspec": {
   "display_name": "Python 3",
   "language": "python",
   "name": "python3"
  },
  "language_info": {
   "codemirror_mode": {
    "name": "ipython",
    "version": 3
   },
   "file_extension": ".py",
   "mimetype": "text/x-python",
   "name": "python",
   "nbconvert_exporter": "python",
   "pygments_lexer": "ipython3",
   "version": "3.5.1"
  }
 },
 "nbformat": 4,
 "nbformat_minor": 0
}
