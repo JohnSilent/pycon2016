{
 "cells": [
  {
   "cell_type": "markdown",
   "metadata": {},
   "source": [
    "# Example 2: Add Parameter and Introduce Parameter Object\n",
    "\n",
    "[Add parameter in the refactoring catalog](http://refactoring.com/catalog/addParameter.html).\n",
    "\n",
    "[Introduce Parameter Object in the refactoring catalog](http://refactoring.com/catalog/introduceParameterObject.html)."
   ]
  },
  {
   "cell_type": "markdown",
   "metadata": {},
   "source": [
    "---\n",
    "\n",
    "Some code that returns the best movie."
   ]
  },
  {
   "cell_type": "code",
   "execution_count": 28,
   "metadata": {
    "collapsed": true
   },
   "outputs": [],
   "source": [
    "def best_picture():\n",
    "    return 'Casablanca'"
   ]
  },
  {
   "cell_type": "code",
   "execution_count": 29,
   "metadata": {
    "collapsed": false
   },
   "outputs": [
    {
     "data": {
      "text/plain": [
       "'Casablanca'"
      ]
     },
     "execution_count": 29,
     "metadata": {},
     "output_type": "execute_result"
    }
   ],
   "source": [
    "best_picture()"
   ]
  },
  {
   "cell_type": "markdown",
   "metadata": {},
   "source": [
    "---\n",
    "\n",
    "Say we want this to vary by year, instead of just returning the best movie of all time.\n",
    "\n",
    "To add a parameter, first make the new parameter optional by giving it a keyword and defaulting it to `None`. Log a warning when the usage doesn't supply the parameters."
   ]
  },
  {
   "cell_type": "code",
   "execution_count": 52,
   "metadata": {
    "collapsed": true
   },
   "outputs": [],
   "source": [
    "import warnings\n",
    "\n",
    "def best_picture(year=None):\n",
    "    if year is None:\n",
    "        warnings.warn('Must specify \"year\" for best_picture', DeprecationWarning)\n",
    "    if year == 2015:\n",
    "        return 'Spotlight'\n",
    "    elif year == 2014:\n",
    "        return 'Birdman'\n",
    "    # ...\n",
    "    else:\n",
    "        return 'Casablanca'"
   ]
  },
  {
   "cell_type": "code",
   "execution_count": 53,
   "metadata": {
    "collapsed": false
   },
   "outputs": [
    {
     "name": "stderr",
     "output_type": "stream",
     "text": [
      "/Users/bslatkin/projects/pycon2016/lib/python3.5/site-packages/ipykernel/__main__.py:5: DeprecationWarning: Must specify \"year\" for best_picture\n"
     ]
    },
    {
     "data": {
      "text/plain": [
       "'Casablanca'"
      ]
     },
     "execution_count": 53,
     "metadata": {},
     "output_type": "execute_result"
    }
   ],
   "source": [
    "best_picture()  # Expect a warning because year isn't specified"
   ]
  },
  {
   "cell_type": "markdown",
   "metadata": {},
   "source": [
    "---\n",
    "\n",
    "Fix those warnings at all call sites, then make the parameter required."
   ]
  },
  {
   "cell_type": "code",
   "execution_count": 81,
   "metadata": {
    "collapsed": true
   },
   "outputs": [],
   "source": [
    "def best_picture(year):\n",
    "    if year == 2015:\n",
    "        return 'Spotlight'\n",
    "    elif year == 2014:\n",
    "        return 'Birdman'\n",
    "    raise ValueError('Must specify \"year\" for best_picture')"
   ]
  },
  {
   "cell_type": "code",
   "execution_count": 82,
   "metadata": {
    "collapsed": false
   },
   "outputs": [
    {
     "data": {
      "text/plain": [
       "'Birdman'"
      ]
     },
     "execution_count": 82,
     "metadata": {},
     "output_type": "execute_result"
    }
   ],
   "source": [
    "best_picture(2014)"
   ]
  },
  {
   "cell_type": "code",
   "execution_count": 83,
   "metadata": {
    "collapsed": false
   },
   "outputs": [
    {
     "ename": "TypeError",
     "evalue": "best_picture() missing 1 required positional argument: 'year'",
     "output_type": "error",
     "traceback": [
      "\u001b[0;31m---------------------------------------------------------------------------\u001b[0m",
      "\u001b[0;31mTypeError\u001b[0m                                 Traceback (most recent call last)",
      "\u001b[0;32m<ipython-input-83-ff1c7fe0d6e8>\u001b[0m in \u001b[0;36m<module>\u001b[0;34m()\u001b[0m\n\u001b[0;32m----> 1\u001b[0;31m \u001b[0mbest_picture\u001b[0m\u001b[0;34m(\u001b[0m\u001b[0;34m)\u001b[0m  \u001b[0;31m# Expect an error\u001b[0m\u001b[0;34m\u001b[0m\u001b[0m\n\u001b[0m",
      "\u001b[0;31mTypeError\u001b[0m: best_picture() missing 1 required positional argument: 'year'"
     ]
    }
   ],
   "source": [
    "best_picture()  # Expect an error"
   ]
  },
  {
   "cell_type": "code",
   "execution_count": 84,
   "metadata": {
    "collapsed": false
   },
   "outputs": [
    {
     "ename": "ValueError",
     "evalue": "Must specify \"year\" for best_picture",
     "output_type": "error",
     "traceback": [
      "\u001b[0;31m---------------------------------------------------------------------------\u001b[0m",
      "\u001b[0;31mValueError\u001b[0m                                Traceback (most recent call last)",
      "\u001b[0;32m<ipython-input-84-b19ed356c556>\u001b[0m in \u001b[0;36m<module>\u001b[0;34m()\u001b[0m\n\u001b[0;32m----> 1\u001b[0;31m \u001b[0mbest_picture\u001b[0m\u001b[0;34m(\u001b[0m\u001b[0;32mNone\u001b[0m\u001b[0;34m)\u001b[0m  \u001b[0;31m# Expect an error\u001b[0m\u001b[0;34m\u001b[0m\u001b[0m\n\u001b[0m",
      "\u001b[0;32m<ipython-input-81-04a16a5be7a4>\u001b[0m in \u001b[0;36mbest_picture\u001b[0;34m(year)\u001b[0m\n\u001b[1;32m      4\u001b[0m     \u001b[0;32melif\u001b[0m \u001b[0myear\u001b[0m \u001b[0;34m==\u001b[0m \u001b[0;36m2014\u001b[0m\u001b[0;34m:\u001b[0m\u001b[0;34m\u001b[0m\u001b[0m\n\u001b[1;32m      5\u001b[0m         \u001b[0;32mreturn\u001b[0m \u001b[0;34m'Birdman'\u001b[0m\u001b[0;34m\u001b[0m\u001b[0m\n\u001b[0;32m----> 6\u001b[0;31m     \u001b[0;32mraise\u001b[0m \u001b[0mValueError\u001b[0m\u001b[0;34m(\u001b[0m\u001b[0;34m'Must specify \"year\" for best_picture'\u001b[0m\u001b[0;34m)\u001b[0m\u001b[0;34m\u001b[0m\u001b[0m\n\u001b[0m",
      "\u001b[0;31mValueError\u001b[0m: Must specify \"year\" for best_picture"
     ]
    }
   ],
   "source": [
    "best_picture(None)  # Expect an error"
   ]
  },
  {
   "cell_type": "markdown",
   "metadata": {},
   "source": [
    "---\n",
    "\n",
    "Adding a parameter object is very similar."
   ]
  },
  {
   "cell_type": "code",
   "execution_count": 59,
   "metadata": {
    "collapsed": false
   },
   "outputs": [],
   "source": [
    "winners = {\n",
    "    2010: \"The King's Speech\",\n",
    "    2011: 'The Artist',\n",
    "    2012: 'Argo',\n",
    "    2013: '12 Years a Slave',\n",
    "    2014: 'Birdman',\n",
    "    2015: 'Spotlight',\n",
    "}\n",
    "\n",
    "def best_pictures(start, end):\n",
    "    found = []\n",
    "    for i in range(start, end + 1):\n",
    "        found.append(winners[i])\n",
    "    return found"
   ]
  },
  {
   "cell_type": "code",
   "execution_count": 60,
   "metadata": {
    "collapsed": false
   },
   "outputs": [
    {
     "data": {
      "text/plain": [
       "['Birdman', 'Spotlight']"
      ]
     },
     "execution_count": 60,
     "metadata": {},
     "output_type": "execute_result"
    }
   ],
   "source": [
    "best_pictures(2014, 2015)"
   ]
  },
  {
   "cell_type": "markdown",
   "metadata": {},
   "source": [
    "---\n",
    "\n",
    "Create a helper class that encapsulates the behavior you want for the new parameter. Require an object of this class as a new keyword value. Make it so the parameter object and the old usage are mutually exclusive and a warning is issued for the old usage."
   ]
  },
  {
   "cell_type": "code",
   "execution_count": 85,
   "metadata": {
    "collapsed": false
   },
   "outputs": [],
   "source": [
    "class Criteria:\n",
    "    def __init__(self, start_year, end_year):\n",
    "        self.start_year = start_year\n",
    "        self.end_year = end_year\n",
    "    \n",
    "    def get_years(self):\n",
    "        return range(self.start_year, self.end_year + 1)\n",
    "        \n",
    "\n",
    "def best_pictures(start_or_criteria, deprecated_end=None):\n",
    "    has_old_usage = deprecated_end is not None\n",
    "    has_new_usage = isinstance(start_or_criteria, Criteria)\n",
    "\n",
    "    if not (has_old_usage ^ has_new_usage):\n",
    "        raise TypeError('May only specify (\"start\" and \"end\") or \"criteria\"')\n",
    "\n",
    "    if has_new_usage:\n",
    "        criteria = start_or_criteria\n",
    "    elif has_old_usage:\n",
    "        warnings.warn('Must specify \"criteria\" for best_pictures', DeprecationWarning)\n",
    "        criteria = Criteria(start_or_criteria, deprecated_end)\n",
    "\n",
    "    return [winners[year] for year in criteria.get_years()]"
   ]
  },
  {
   "cell_type": "code",
   "execution_count": 86,
   "metadata": {
    "collapsed": false
   },
   "outputs": [
    {
     "data": {
      "text/plain": [
       "['Birdman', 'Spotlight']"
      ]
     },
     "execution_count": 86,
     "metadata": {},
     "output_type": "execute_result"
    }
   ],
   "source": [
    "best_pictures(Criteria(2014, 2015))  # New usage, no warnings or errors"
   ]
  },
  {
   "cell_type": "code",
   "execution_count": 87,
   "metadata": {
    "collapsed": false
   },
   "outputs": [
    {
     "name": "stderr",
     "output_type": "stream",
     "text": [
      "/Users/bslatkin/projects/pycon2016/lib/python3.5/site-packages/ipykernel/__main__.py:20: DeprecationWarning: Must specify \"criteria\" for best_pictures\n"
     ]
    },
    {
     "data": {
      "text/plain": [
       "['Birdman', 'Spotlight']"
      ]
     },
     "execution_count": 87,
     "metadata": {},
     "output_type": "execute_result"
    }
   ],
   "source": [
    "best_pictures(2014, 2015)  # Expect a warning because criteria isn't used"
   ]
  },
  {
   "cell_type": "code",
   "execution_count": 88,
   "metadata": {
    "collapsed": false,
    "scrolled": true
   },
   "outputs": [
    {
     "ename": "TypeError",
     "evalue": "May only specify (\"start\" and \"end\") or \"criteria\"",
     "output_type": "error",
     "traceback": [
      "\u001b[0;31m---------------------------------------------------------------------------\u001b[0m",
      "\u001b[0;31mTypeError\u001b[0m                                 Traceback (most recent call last)",
      "\u001b[0;32m<ipython-input-88-0ed04b1534f3>\u001b[0m in \u001b[0;36m<module>\u001b[0;34m()\u001b[0m\n\u001b[0;32m----> 1\u001b[0;31m \u001b[0mbest_pictures\u001b[0m\u001b[0;34m(\u001b[0m\u001b[0mCriteria\u001b[0m\u001b[0;34m(\u001b[0m\u001b[0;36m2014\u001b[0m\u001b[0;34m,\u001b[0m \u001b[0;36m2015\u001b[0m\u001b[0;34m)\u001b[0m\u001b[0;34m,\u001b[0m \u001b[0;36m2015\u001b[0m\u001b[0;34m)\u001b[0m  \u001b[0;31m# Expect an error because a mix of usage is supplied\u001b[0m\u001b[0;34m\u001b[0m\u001b[0m\n\u001b[0m",
      "\u001b[0;32m<ipython-input-85-520090be0875>\u001b[0m in \u001b[0;36mbest_pictures\u001b[0;34m(start_or_criteria, deprecated_end)\u001b[0m\n\u001b[1;32m     13\u001b[0m \u001b[0;34m\u001b[0m\u001b[0m\n\u001b[1;32m     14\u001b[0m     \u001b[0;32mif\u001b[0m \u001b[0;32mnot\u001b[0m \u001b[0;34m(\u001b[0m\u001b[0mhas_old_usage\u001b[0m \u001b[0;34m^\u001b[0m \u001b[0mhas_new_usage\u001b[0m\u001b[0;34m)\u001b[0m\u001b[0;34m:\u001b[0m\u001b[0;34m\u001b[0m\u001b[0m\n\u001b[0;32m---> 15\u001b[0;31m         \u001b[0;32mraise\u001b[0m \u001b[0mTypeError\u001b[0m\u001b[0;34m(\u001b[0m\u001b[0;34m'May only specify (\"start\" and \"end\") or \"criteria\"'\u001b[0m\u001b[0;34m)\u001b[0m\u001b[0;34m\u001b[0m\u001b[0m\n\u001b[0m\u001b[1;32m     16\u001b[0m \u001b[0;34m\u001b[0m\u001b[0m\n\u001b[1;32m     17\u001b[0m     \u001b[0;32mif\u001b[0m \u001b[0mhas_new_usage\u001b[0m\u001b[0;34m:\u001b[0m\u001b[0;34m\u001b[0m\u001b[0m\n",
      "\u001b[0;31mTypeError\u001b[0m: May only specify (\"start\" and \"end\") or \"criteria\""
     ]
    }
   ],
   "source": [
    "best_pictures(Criteria(2014, 2015), 2015)  # Expect an error because a mix of usage is supplied"
   ]
  },
  {
   "cell_type": "markdown",
   "metadata": {},
   "source": [
    "---\n",
    "\n",
    "Fix the warnings at all call sites, then make the parameter object required."
   ]
  },
  {
   "cell_type": "code",
   "execution_count": 89,
   "metadata": {
    "collapsed": true
   },
   "outputs": [],
   "source": [
    "def best_pictures(criteria):\n",
    "    return [winners[year] for year in criteria.get_years()]"
   ]
  },
  {
   "cell_type": "code",
   "execution_count": 90,
   "metadata": {
    "collapsed": false
   },
   "outputs": [
    {
     "data": {
      "text/plain": [
       "['Birdman', 'Spotlight']"
      ]
     },
     "execution_count": 90,
     "metadata": {},
     "output_type": "execute_result"
    }
   ],
   "source": [
    "best_pictures(Criteria(2014, 2015))"
   ]
  },
  {
   "cell_type": "code",
   "execution_count": 92,
   "metadata": {
    "collapsed": false
   },
   "outputs": [
    {
     "ename": "TypeError",
     "evalue": "best_pictures() takes 1 positional argument but 2 were given",
     "output_type": "error",
     "traceback": [
      "\u001b[0;31m---------------------------------------------------------------------------\u001b[0m",
      "\u001b[0;31mTypeError\u001b[0m                                 Traceback (most recent call last)",
      "\u001b[0;32m<ipython-input-92-8a19767767c5>\u001b[0m in \u001b[0;36m<module>\u001b[0;34m()\u001b[0m\n\u001b[0;32m----> 1\u001b[0;31m \u001b[0mbest_pictures\u001b[0m\u001b[0;34m(\u001b[0m\u001b[0;36m2014\u001b[0m\u001b[0;34m,\u001b[0m \u001b[0;36m2015\u001b[0m\u001b[0;34m)\u001b[0m  \u001b[0;31m# Expect an error because the function signature changed\u001b[0m\u001b[0;34m\u001b[0m\u001b[0m\n\u001b[0m",
      "\u001b[0;31mTypeError\u001b[0m: best_pictures() takes 1 positional argument but 2 were given"
     ]
    }
   ],
   "source": [
    "best_pictures(2014, 2015)  # Expect an error because the function signature changed"
   ]
  }
 ],
 "metadata": {
  "kernelspec": {
   "display_name": "Python 3",
   "language": "python",
   "name": "python3"
  },
  "language_info": {
   "codemirror_mode": {
    "name": "ipython",
    "version": 3
   },
   "file_extension": ".py",
   "mimetype": "text/x-python",
   "name": "python",
   "nbconvert_exporter": "python",
   "pygments_lexer": "ipython3",
   "version": "3.5.1"
  }
 },
 "nbformat": 4,
 "nbformat_minor": 0
}
