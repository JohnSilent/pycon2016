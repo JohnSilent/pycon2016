{
 "cells": [
  {
   "cell_type": "markdown",
   "metadata": {},
   "source": [
    "# Example 3: Move Field and Move Method\n",
    "\n",
    "[Move field in the refactoring catalog](http://refactoring.com/catalog/moveField.html).\n",
    "\n",
    "[Move method in the refactoring catalog](http://refactoring.com/catalog/moveMethod.html)."
   ]
  },
  {
   "cell_type": "markdown",
   "metadata": {},
   "source": [
    "---\n",
    "\n",
    "Say you want to represent a set of animals that can be someone's pet."
   ]
  },
  {
   "cell_type": "code",
   "execution_count": 111,
   "metadata": {
    "collapsed": true
   },
   "outputs": [],
   "source": [
    "class Animal:\n",
    "    def __init__(self, *, has_scales=False, lays_eggs=False, drinks_milk=False):\n",
    "        self.has_scales = has_scales\n",
    "        self.lays_eggs = lays_eggs\n",
    "        self.drinks_milk = drinks_milk\n",
    "\n",
    "class Pet:\n",
    "    def __init__(self, name, animal, joined_family):\n",
    "        self.name = name\n",
    "        self.animal = animal\n",
    "        self.joined_family = joined_family\n",
    "\n",
    "    def needs_heat_lamp(self):\n",
    "        return (\n",
    "            self.animal.has_scales and\n",
    "            self.animal.lays_eggs and\n",
    "            not self.animal.drinks_milk)"
   ]
  },
  {
   "cell_type": "code",
   "execution_count": 112,
   "metadata": {
    "collapsed": true
   },
   "outputs": [],
   "source": [
    "import datetime\n",
    "adoption_date = datetime.datetime.utcnow()"
   ]
  },
  {
   "cell_type": "code",
   "execution_count": 113,
   "metadata": {
    "collapsed": false
   },
   "outputs": [
    {
     "name": "stdout",
     "output_type": "stream",
     "text": [
      "Gregory the Gila Monster needs a heat lamp? True\n"
     ]
    }
   ],
   "source": [
    "my_pet = Pet('Gregory the Gila Monster', Animal(has_scales=True, lays_eggs=True), adoption_date)\n",
    "print('%s needs a heat lamp? %s' % (my_pet.name, my_pet.needs_heat_lamp()))"
   ]
  },
  {
   "cell_type": "markdown",
   "metadata": {},
   "source": [
    "---\n",
    "\n",
    "You may decide that the name wasn't quite right. The `Pet` is a bit to judgemental, so let's rename it."
   ]
  },
  {
   "cell_type": "code",
   "execution_count": 114,
   "metadata": {
    "collapsed": false
   },
   "outputs": [
    {
     "name": "stdout",
     "output_type": "stream",
     "text": [
      "Scalia needs a heat lamp? True\n"
     ]
    }
   ],
   "source": [
    "my_pet.name = 'Scalia'\n",
    "print('%s needs a heat lamp? %s' % (my_pet.name, my_pet.needs_heat_lamp()))"
   ]
  },
  {
   "cell_type": "markdown",
   "metadata": {},
   "source": [
    "---\n",
    "\n",
    "Thinking about that, perhaps names are an inherent part of the `Animal`, not part of the `Pet`. Move the property into the `Animal` class, use `@property` to alias the old usage to the new usage with a warning. Use `@property.setter` to handle assignment and also issue a warning."
   ]
  },
  {
   "cell_type": "code",
   "execution_count": 115,
   "metadata": {
    "collapsed": true
   },
   "outputs": [],
   "source": [
    "import warnings"
   ]
  },
  {
   "cell_type": "code",
   "execution_count": 116,
   "metadata": {
    "collapsed": true
   },
   "outputs": [],
   "source": [
    "class Animal:\n",
    "    def __init__(self, name, *, has_scales=False, lays_eggs=False, drinks_milk=False):\n",
    "        self.name = name\n",
    "        self.has_scales = has_scales\n",
    "        self.lays_eggs = lays_eggs\n",
    "        self.drinks_milk = drinks_milk\n",
    "\n",
    "class Pet:\n",
    "    def __init__(self, animal, joined_family):\n",
    "        self.animal = animal\n",
    "        self.joined_family = joined_family\n",
    "\n",
    "    @property\n",
    "    def name(self):\n",
    "        warnings.warn('Use the pet.animal.name property directly', DeprecationWarning)\n",
    "        return self.animal.name\n",
    "\n",
    "    @name.setter\n",
    "    def name(self, new_name):\n",
    "        warnings.warn('Use the pet.animal.name property directly', DeprecationWarning)\n",
    "        self.animal.name = new_name\n",
    "\n",
    "    def needs_heat_lamp(self):\n",
    "        return (\n",
    "            self.animal.has_scales and\n",
    "            self.animal.lays_eggs and\n",
    "            not self.animal.drinks_milk)"
   ]
  },
  {
   "cell_type": "code",
   "execution_count": 117,
   "metadata": {
    "collapsed": false
   },
   "outputs": [
    {
     "name": "stdout",
     "output_type": "stream",
     "text": [
      "Scalia needs a heat lamp? True\n"
     ]
    },
    {
     "name": "stderr",
     "output_type": "stream",
     "text": [
      "/Users/bslatkin/projects/pycon2016/lib/python3.5/site-packages/ipykernel/__main__.py:15: DeprecationWarning: Use the pet.animal.name property directly\n"
     ]
    }
   ],
   "source": [
    "my_pet = Pet(Animal('Scalia', has_scales=True, lays_eggs=True), adoption_date)\n",
    "print('%s needs a heat lamp? %s' % (my_pet.name, my_pet.needs_heat_lamp()))"
   ]
  },
  {
   "cell_type": "code",
   "execution_count": 118,
   "metadata": {
    "collapsed": false
   },
   "outputs": [
    {
     "name": "stderr",
     "output_type": "stream",
     "text": [
      "/Users/bslatkin/projects/pycon2016/lib/python3.5/site-packages/ipykernel/__main__.py:20: DeprecationWarning: Use the pet.animal.name property directly\n"
     ]
    }
   ],
   "source": [
    "my_pet.name = 'Gilberto the Gila Monster'  # Still assignable on the outer object"
   ]
  },
  {
   "cell_type": "markdown",
   "metadata": {},
   "source": [
    "---\n",
    "\n",
    "The new usage won't return any errors or warnings."
   ]
  },
  {
   "cell_type": "code",
   "execution_count": 119,
   "metadata": {
    "collapsed": false
   },
   "outputs": [
    {
     "data": {
      "text/plain": [
       "'Gilberto the Gila Monster'"
      ]
     },
     "execution_count": 119,
     "metadata": {},
     "output_type": "execute_result"
    }
   ],
   "source": [
    "my_pet.animal.name  # Accessible in the inner object without warnings"
   ]
  },
  {
   "cell_type": "code",
   "execution_count": 120,
   "metadata": {
    "collapsed": false
   },
   "outputs": [
    {
     "data": {
      "text/plain": [
       "'Gilberto'"
      ]
     },
     "execution_count": 120,
     "metadata": {},
     "output_type": "execute_result"
    }
   ],
   "source": [
    "my_pet.animal.name = 'Gilberto'  # Assignable in the inner object\n",
    "my_pet.animal.name"
   ]
  },
  {
   "cell_type": "markdown",
   "metadata": {},
   "source": [
    "---\n",
    "\n",
    "Finally, delete the old usage and make it return an error. The new way will work."
   ]
  },
  {
   "cell_type": "code",
   "execution_count": 124,
   "metadata": {
    "collapsed": true
   },
   "outputs": [],
   "source": [
    "class Animal:\n",
    "    def __init__(self, name, *, has_scales=False, lays_eggs=False, drinks_milk=False):\n",
    "        self.name = name\n",
    "        self.has_scales = has_scales\n",
    "        self.lays_eggs = lays_eggs\n",
    "        self.drinks_milk = drinks_milk\n",
    "\n",
    "class Pet:\n",
    "    def __init__(self, animal, joined_family):\n",
    "        self.animal = animal\n",
    "        self.joined_family = joined_family\n",
    "\n",
    "    def needs_heat_lamp(self):\n",
    "        return (\n",
    "            self.animal.has_scales and\n",
    "            self.animal.lays_eggs and\n",
    "            not self.animal.drinks_milk)"
   ]
  },
  {
   "cell_type": "code",
   "execution_count": 125,
   "metadata": {
    "collapsed": false
   },
   "outputs": [
    {
     "name": "stdout",
     "output_type": "stream",
     "text": [
      "Scalia needs a heat lamp? True\n"
     ]
    }
   ],
   "source": [
    "animal = Animal('Scalia', has_scales=True, lays_eggs=True)\n",
    "my_pet = Pet(animal, adoption_date)\n",
    "print('%s needs a heat lamp? %s' % (animal.name, my_pet.needs_heat_lamp()))"
   ]
  },
  {
   "cell_type": "code",
   "execution_count": 126,
   "metadata": {
    "collapsed": false
   },
   "outputs": [
    {
     "ename": "AttributeError",
     "evalue": "'Pet' object has no attribute 'name'",
     "output_type": "error",
     "traceback": [
      "\u001b[0;31m---------------------------------------------------------------------------\u001b[0m",
      "\u001b[0;31mAttributeError\u001b[0m                            Traceback (most recent call last)",
      "\u001b[0;32m<ipython-input-126-bb0a1b5dc7c0>\u001b[0m in \u001b[0;36m<module>\u001b[0;34m()\u001b[0m\n\u001b[0;32m----> 1\u001b[0;31m \u001b[0mmy_pet\u001b[0m\u001b[0;34m.\u001b[0m\u001b[0mname\u001b[0m  \u001b[0;31m# Expect an error because the property moved\u001b[0m\u001b[0;34m\u001b[0m\u001b[0m\n\u001b[0m",
      "\u001b[0;31mAttributeError\u001b[0m: 'Pet' object has no attribute 'name'"
     ]
    }
   ],
   "source": [
    "my_pet.name  # Expect an error because the property moved"
   ]
  },
  {
   "cell_type": "markdown",
   "metadata": {},
   "source": [
    "---\n",
    "\n",
    "Say we want to rename `needs_heat_lamp` to `is_reptile` since that's a more general API anyways. Make the old usage point at the new API on the inner object, and have it issue a warning."
   ]
  },
  {
   "cell_type": "code",
   "execution_count": 127,
   "metadata": {
    "collapsed": true
   },
   "outputs": [],
   "source": [
    "class Animal:\n",
    "    def __init__(self, name, *, has_scales=False, lays_eggs=False, drinks_milk=False):\n",
    "        self.name = name\n",
    "        self.has_scales = has_scales\n",
    "        self.lays_eggs = lays_eggs\n",
    "        self.drinks_milk = drinks_milk\n",
    "\n",
    "    @property\n",
    "    def is_reptile(self):\n",
    "        return self.has_scales and self.lays_eggs and not self.drinks_milk\n",
    "\n",
    "class Pet:\n",
    "    def __init__(self, animal, joined_family):\n",
    "        self.animal = animal\n",
    "        self.joined_family = joined_family\n",
    "\n",
    "    def needs_heat_lamp(self):\n",
    "        warnings.warn('Use the animal.is_reptile property directly', DeprecationWarning)\n",
    "        return self.animal.is_reptile"
   ]
  },
  {
   "cell_type": "code",
   "execution_count": 128,
   "metadata": {
    "collapsed": false
   },
   "outputs": [
    {
     "name": "stdout",
     "output_type": "stream",
     "text": [
      "Gilberto needs a heat lamp? True\n"
     ]
    },
    {
     "name": "stderr",
     "output_type": "stream",
     "text": [
      "/Users/bslatkin/projects/pycon2016/lib/python3.5/site-packages/ipykernel/__main__.py:18: DeprecationWarning: Use the animal.is_reptile property directly\n"
     ]
    }
   ],
   "source": [
    "my_pet = Pet(Animal('Gilberto', has_scales=True, lays_eggs=True), adoption_date)\n",
    "print('%s needs a heat lamp? %s' % (my_pet.animal.name, my_pet.needs_heat_lamp()))"
   ]
  },
  {
   "cell_type": "markdown",
   "metadata": {},
   "source": [
    "---\n",
    "\n",
    "Move all callers to the new API, and then remove the old `needs_heat_lamp` method."
   ]
  },
  {
   "cell_type": "code",
   "execution_count": 130,
   "metadata": {
    "collapsed": true
   },
   "outputs": [],
   "source": [
    "class Animal:\n",
    "    def __init__(self, name, *, has_scales=False, lays_eggs=False, drinks_milk=False):\n",
    "        self.name = name\n",
    "        self.has_scales = has_scales\n",
    "        self.lays_eggs = lays_eggs\n",
    "        self.drinks_milk = drinks_milk\n",
    "\n",
    "    @property\n",
    "    def is_reptile(self):\n",
    "        return self.has_scales and self.lays_eggs and not self.drinks_milk\n",
    "\n",
    "class Pet:\n",
    "    def __init__(self, animal, joined_family):\n",
    "        self.animal = animal\n",
    "        self.joined_family = joined_family"
   ]
  },
  {
   "cell_type": "code",
   "execution_count": 131,
   "metadata": {
    "collapsed": false
   },
   "outputs": [
    {
     "name": "stdout",
     "output_type": "stream",
     "text": [
      "Gilberto needs a heat lamp? True\n"
     ]
    }
   ],
   "source": [
    "animal = Animal('Gilberto', has_scales=True, lays_eggs=True)\n",
    "my_pet = Pet(animal, adoption_date)\n",
    "print('%s needs a heat lamp? %s' % (animal.name, animal.is_reptile))"
   ]
  },
  {
   "cell_type": "code",
   "execution_count": 132,
   "metadata": {
    "collapsed": false
   },
   "outputs": [
    {
     "ename": "AttributeError",
     "evalue": "'Pet' object has no attribute 'needs_heat_lamp'",
     "output_type": "error",
     "traceback": [
      "\u001b[0;31m---------------------------------------------------------------------------\u001b[0m",
      "\u001b[0;31mAttributeError\u001b[0m                            Traceback (most recent call last)",
      "\u001b[0;32m<ipython-input-132-923e096bd821>\u001b[0m in \u001b[0;36m<module>\u001b[0;34m()\u001b[0m\n\u001b[0;32m----> 1\u001b[0;31m \u001b[0mmy_pet\u001b[0m\u001b[0;34m.\u001b[0m\u001b[0mneeds_heat_lamp\u001b[0m\u001b[0;34m(\u001b[0m\u001b[0;34m)\u001b[0m  \u001b[0;31m# Expect an error\u001b[0m\u001b[0;34m\u001b[0m\u001b[0m\n\u001b[0m",
      "\u001b[0;31mAttributeError\u001b[0m: 'Pet' object has no attribute 'needs_heat_lamp'"
     ]
    }
   ],
   "source": [
    "my_pet.needs_heat_lamp()  # Expect an error"
   ]
  }
 ],
 "metadata": {
  "kernelspec": {
   "display_name": "Python 3",
   "language": "python",
   "name": "python3"
  },
  "language_info": {
   "codemirror_mode": {
    "name": "ipython",
    "version": 3
   },
   "file_extension": ".py",
   "mimetype": "text/x-python",
   "name": "python",
   "nbconvert_exporter": "python",
   "pygments_lexer": "ipython3",
   "version": "3.5.1"
  }
 },
 "nbformat": 4,
 "nbformat_minor": 0
}
