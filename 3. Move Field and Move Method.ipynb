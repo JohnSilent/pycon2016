{
 "cells": [
  {
   "cell_type": "markdown",
   "metadata": {},
   "source": [
    "# Example 3: Move Field and Move Method\n",
    "\n",
    "[Move field in the refactoring catalog](http://refactoring.com/catalog/moveField.html).\n",
    "\n",
    "[Move method in the refactoring catalog](http://refactoring.com/catalog/moveMethod.html)."
   ]
  },
  {
   "cell_type": "code",
   "execution_count": 68,
   "metadata": {
    "collapsed": true
   },
   "outputs": [],
   "source": [
    "class Animal:\n",
    "    def __init__(self, *, has_scales=False, lays_eggs=False, drinks_milk=False):\n",
    "        self.has_scales = has_scales\n",
    "        self.lays_eggs = lays_eggs\n",
    "        self.drinks_milk = drinks_milk\n",
    "\n",
    "class Pet:\n",
    "    def __init__(self, name, animal, joined_family):\n",
    "        self.name = name\n",
    "        self.animal = animal\n",
    "        self.joined_family = joined_family\n",
    "\n",
    "    def needs_heat_lamp(self):\n",
    "        return (\n",
    "            self.animal.has_scales and\n",
    "            self.animal.lays_eggs and\n",
    "            not self.animal.drinks_milk)"
   ]
  },
  {
   "cell_type": "code",
   "execution_count": 69,
   "metadata": {
    "collapsed": true
   },
   "outputs": [],
   "source": [
    "import datetime\n",
    "adoption_date = datetime.datetime.utcnow()"
   ]
  },
  {
   "cell_type": "code",
   "execution_count": 70,
   "metadata": {
    "collapsed": false
   },
   "outputs": [
    {
     "name": "stdout",
     "output_type": "stream",
     "text": [
      "Gregory the Gila Monster needs a heat lamp? True\n"
     ]
    }
   ],
   "source": [
    "my_pet = Pet('Gregory the Gila Monster', Animal(has_scales=True, lays_eggs=True), adoption_date)\n",
    "print('%s needs a heat lamp? %s' % (my_pet.name, my_pet.needs_heat_lamp()))"
   ]
  },
  {
   "cell_type": "markdown",
   "metadata": {},
   "source": [
    "Pet is a bit to judgemental, rename him."
   ]
  },
  {
   "cell_type": "code",
   "execution_count": 71,
   "metadata": {
    "collapsed": false
   },
   "outputs": [
    {
     "name": "stdout",
     "output_type": "stream",
     "text": [
      "Scalia needs a heat lamp? True\n"
     ]
    }
   ],
   "source": [
    "my_pet.name = 'Scalia'\n",
    "print('%s needs a heat lamp? %s' % (my_pet.name, my_pet.needs_heat_lamp()))"
   ]
  },
  {
   "cell_type": "markdown",
   "metadata": {},
   "source": [
    "Maybe names are part of the animal, not just the pet."
   ]
  },
  {
   "cell_type": "code",
   "execution_count": 72,
   "metadata": {
    "collapsed": true
   },
   "outputs": [],
   "source": [
    "import warnings"
   ]
  },
  {
   "cell_type": "code",
   "execution_count": 73,
   "metadata": {
    "collapsed": true
   },
   "outputs": [],
   "source": [
    "class Animal:\n",
    "    def __init__(self, name, *, has_scales=False, lays_eggs=False, drinks_milk=False):\n",
    "        self.name = name\n",
    "        self.has_scales = has_scales\n",
    "        self.lays_eggs = lays_eggs\n",
    "        self.drinks_milk = drinks_milk\n",
    "\n",
    "class Pet:\n",
    "    def __init__(self, animal, joined_family):\n",
    "        self.animal = animal\n",
    "        self.joined_family = joined_family\n",
    "\n",
    "    @property\n",
    "    def name(self):\n",
    "        warnings.warn('Use the pet.animal.name property directly', DeprecationWarning)\n",
    "        return self.animal.name\n",
    "\n",
    "    @name.setter\n",
    "    def name(self, new_name):\n",
    "        warnings.warn('Use the pet.animal.name property directly', DeprecationWarning)\n",
    "        self.animal.name = new_name\n",
    "\n",
    "    def needs_heat_lamp(self):\n",
    "        return (\n",
    "            self.animal.has_scales and\n",
    "            self.animal.lays_eggs and\n",
    "            not self.animal.drinks_milk)"
   ]
  },
  {
   "cell_type": "code",
   "execution_count": 74,
   "metadata": {
    "collapsed": false
   },
   "outputs": [
    {
     "name": "stdout",
     "output_type": "stream",
     "text": [
      "Scalia needs a heat lamp? True\n"
     ]
    },
    {
     "name": "stderr",
     "output_type": "stream",
     "text": [
      "/Users/bslatkin/projects/pycon2016/lib/python3.5/site-packages/ipykernel/__main__.py:15: DeprecationWarning: Use the pet.animal.name property directly\n"
     ]
    }
   ],
   "source": [
    "my_pet = Pet(Animal('Scalia', has_scales=True, lays_eggs=True), adoption_date)\n",
    "print('%s needs a heat lamp? %s' % (my_pet.name, my_pet.needs_heat_lamp()))"
   ]
  },
  {
   "cell_type": "code",
   "execution_count": 75,
   "metadata": {
    "collapsed": false
   },
   "outputs": [
    {
     "name": "stderr",
     "output_type": "stream",
     "text": [
      "/Users/bslatkin/projects/pycon2016/lib/python3.5/site-packages/ipykernel/__main__.py:20: DeprecationWarning: Use the pet.animal.name property directly\n"
     ]
    }
   ],
   "source": [
    "my_pet.name = 'Gilberto the Gila Monster'  # Still assignable on the outer object"
   ]
  },
  {
   "cell_type": "code",
   "execution_count": 76,
   "metadata": {
    "collapsed": false
   },
   "outputs": [
    {
     "data": {
      "text/plain": [
       "'Gilberto the Gila Monster'"
      ]
     },
     "execution_count": 76,
     "metadata": {},
     "output_type": "execute_result"
    }
   ],
   "source": [
    "my_pet.animal.name  # Accessible in the inner object without warnings"
   ]
  },
  {
   "cell_type": "code",
   "execution_count": 77,
   "metadata": {
    "collapsed": false
   },
   "outputs": [
    {
     "data": {
      "text/plain": [
       "'Gilberto'"
      ]
     },
     "execution_count": 77,
     "metadata": {},
     "output_type": "execute_result"
    }
   ],
   "source": [
    "my_pet.animal.name = 'Gilberto'  # Assignable in the inner object\n",
    "my_pet.animal.name"
   ]
  },
  {
   "cell_type": "markdown",
   "metadata": {},
   "source": [
    "What about moving a method? Same logic applies for the needs_heat_lamp example. Assume that all of the callers have been moved to the new API now."
   ]
  },
  {
   "cell_type": "code",
   "execution_count": 81,
   "metadata": {
    "collapsed": true
   },
   "outputs": [],
   "source": [
    "class Animal:\n",
    "    def __init__(self, name, *, has_scales=False, lays_eggs=False, drinks_milk=False):\n",
    "        self.name = name\n",
    "        self.has_scales = has_scales\n",
    "        self.lays_eggs = lays_eggs\n",
    "        self.drinks_milk = drinks_milk\n",
    "\n",
    "class Pet:\n",
    "    def __init__(self, animal, joined_family):\n",
    "        self.animal = animal\n",
    "        self.joined_family = joined_family\n",
    "\n",
    "    def needs_heat_lamp(self):\n",
    "        return (\n",
    "            self.animal.has_scales and\n",
    "            self.animal.lays_eggs and\n",
    "            not self.animal.drinks_milk)"
   ]
  },
  {
   "cell_type": "code",
   "execution_count": 83,
   "metadata": {
    "collapsed": false
   },
   "outputs": [
    {
     "name": "stdout",
     "output_type": "stream",
     "text": [
      "Gilberto needs a heat lamp? True\n"
     ]
    }
   ],
   "source": [
    "my_pet = Pet(Animal('Gilberto', has_scales=True, lays_eggs=True), adoption_date)\n",
    "print('%s needs a heat lamp? %s' % (my_pet.animal.name, my_pet.needs_heat_lamp()))"
   ]
  },
  {
   "cell_type": "code",
   "execution_count": 89,
   "metadata": {
    "collapsed": true
   },
   "outputs": [],
   "source": [
    "class Animal:\n",
    "    def __init__(self, name, *, has_scales=False, lays_eggs=False, drinks_milk=False):\n",
    "        self.name = name\n",
    "        self.has_scales = has_scales\n",
    "        self.lays_eggs = lays_eggs\n",
    "        self.drinks_milk = drinks_milk\n",
    "\n",
    "    @property\n",
    "    def is_reptile(self):\n",
    "        return self.has_scales and self.lays_eggs and not self.drinks_milk\n",
    "\n",
    "class Pet:\n",
    "    def __init__(self, animal, joined_family):\n",
    "        self.animal = animal\n",
    "        self.joined_family = joined_family\n",
    "\n",
    "    def needs_heat_lamp(self):\n",
    "        warnings.warn('Use the animal.is_reptile property directly', DeprecationWarning)\n",
    "        return self.animal.is_reptile"
   ]
  },
  {
   "cell_type": "code",
   "execution_count": 90,
   "metadata": {
    "collapsed": false
   },
   "outputs": [
    {
     "name": "stdout",
     "output_type": "stream",
     "text": [
      "Gilberto needs a heat lamp? True\n"
     ]
    },
    {
     "name": "stderr",
     "output_type": "stream",
     "text": [
      "/Users/bslatkin/projects/pycon2016/lib/python3.5/site-packages/ipykernel/__main__.py:18: DeprecationWarning: Use the animal.is_reptile property directly\n"
     ]
    }
   ],
   "source": [
    "my_pet = Pet(Animal('Gilberto', has_scales=True, lays_eggs=True), adoption_date)\n",
    "print('%s needs a heat lamp? %s' % (my_pet.animal.name, my_pet.needs_heat_lamp()))"
   ]
  },
  {
   "cell_type": "code",
   "execution_count": 91,
   "metadata": {
    "collapsed": false
   },
   "outputs": [
    {
     "name": "stdout",
     "output_type": "stream",
     "text": [
      "Gilberto needs a heat lamp? True\n"
     ]
    }
   ],
   "source": [
    "animal = Animal('Gilberto', has_scales=True, lays_eggs=True)\n",
    "my_pet = Pet(animal, adoption_date)\n",
    "print('%s needs a heat lamp? %s' % (animal.name, animal.is_reptile))"
   ]
  }
 ],
 "metadata": {
  "kernelspec": {
   "display_name": "Python 3",
   "language": "python",
   "name": "python3"
  },
  "language_info": {
   "codemirror_mode": {
    "name": "ipython",
    "version": 3
   },
   "file_extension": ".py",
   "mimetype": "text/x-python",
   "name": "python",
   "nbconvert_exporter": "python",
   "pygments_lexer": "ipython3",
   "version": "3.5.1"
  }
 },
 "nbformat": 4,
 "nbformat_minor": 0
}
