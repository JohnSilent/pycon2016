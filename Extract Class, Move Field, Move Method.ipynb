{
 "cells": [
  {
   "cell_type": "markdown",
   "metadata": {},
   "source": [
    "# Example 3: Extract Class, Move Field, Move Method\n",
    "\n",
    "[Extract class in the refactoring catalog.](http://refactoring.com/catalog/extractClass.html)\n",
    "\n",
    "[Move field in the refactoring catalog](http://refactoring.com/catalog/moveField.html).\n",
    "\n",
    "[Move method in the refactoring catalog](http://refactoring.com/catalog/moveMethod.html)."
   ]
  },
  {
   "cell_type": "markdown",
   "metadata": {},
   "source": [
    "- Do this when a class is responsible for too many things (> 5 methods, > 5 properties)\n",
    "- Define a new class with all the fields you need to do the work.\n",
    "- Implement `@property` and `@property.setter` to point at the new helper class so old usage continues to work.\n",
    "- Move the methods that interact with these properties onto the interior class, instead of on the exterior class. Use `@property` to point existing usage at the new helper class.\n",
    "- Use warnings to track down old usage. Move that usage to directly interact with the interior class. Remove all the `@property`s you used for indirection."
   ]
  },
  {
   "cell_type": "code",
   "execution_count": 107,
   "metadata": {
    "collapsed": true
   },
   "outputs": [],
   "source": [
    "class Pet:\n",
    "    def __init__(self, name):\n",
    "        self.name = name"
   ]
  },
  {
   "cell_type": "code",
   "execution_count": 108,
   "metadata": {
    "collapsed": false
   },
   "outputs": [
    {
     "name": "stdout",
     "output_type": "stream",
     "text": [
      "Gregory the Gila Monster\n"
     ]
    }
   ],
   "source": [
    "my_pet = Pet('Gregory the Gila Monster')\n",
    "print(my_pet.name)"
   ]
  },
  {
   "cell_type": "markdown",
   "metadata": {},
   "source": [
    "---\n",
    "\n",
    "More complex"
   ]
  },
  {
   "cell_type": "code",
   "execution_count": 109,
   "metadata": {
    "collapsed": true
   },
   "outputs": [],
   "source": [
    "class Pet:\n",
    "    def __init__(self, name, age):\n",
    "        self.name = name\n",
    "        self.age = age"
   ]
  },
  {
   "cell_type": "code",
   "execution_count": 110,
   "metadata": {
    "collapsed": false
   },
   "outputs": [
    {
     "name": "stdout",
     "output_type": "stream",
     "text": [
      "Gregory the Gila Monster is 3 years old\n"
     ]
    }
   ],
   "source": [
    "my_pet = Pet('Gregory the Gila Monster', 3)\n",
    "print('%s is %d years old' % (my_pet.name, my_pet.age))"
   ]
  },
  {
   "cell_type": "markdown",
   "metadata": {},
   "source": [
    "Add an action method for feeding the pet."
   ]
  },
  {
   "cell_type": "code",
   "execution_count": 111,
   "metadata": {
    "collapsed": true
   },
   "outputs": [],
   "source": [
    "class Pet:\n",
    "    def __init__(self, name, age):\n",
    "        self.name = name\n",
    "        self.age = age\n",
    "        self.treats_eaten = 0\n",
    "    \n",
    "    def give_treats(self, count):\n",
    "        self.treats_eaten += count"
   ]
  },
  {
   "cell_type": "code",
   "execution_count": 113,
   "metadata": {
    "collapsed": false
   },
   "outputs": [
    {
     "name": "stdout",
     "output_type": "stream",
     "text": [
      "Gregory the Gila Monster ate 2 treats\n"
     ]
    }
   ],
   "source": [
    "my_pet = Pet('Gregory the Gila Monster', 3)\n",
    "my_pet.give_treats(2)\n",
    "print('%s ate %d treats' % (my_pet.name, my_pet.treats_eaten))"
   ]
  },
  {
   "cell_type": "markdown",
   "metadata": {},
   "source": [
    "---\n",
    "\n",
    "Now we want to know what kind of pet it is, so we add various attributes and helper methods."
   ]
  },
  {
   "cell_type": "code",
   "execution_count": 118,
   "metadata": {
    "collapsed": true
   },
   "outputs": [],
   "source": [
    "class Pet:\n",
    "    def __init__(self, name, age, *, has_scales=False, lays_eggs=False, drinks_milk=False):\n",
    "        self.name = name\n",
    "        self.age = age\n",
    "        self.treats_eaten = 0\n",
    "        self.has_scales = has_scales\n",
    "        self.lays_eggs = lays_eggs\n",
    "        self.drinks_milk = drinks_milk\n",
    "\n",
    "    def give_treats(self, count):\n",
    "        self.treats_eaten += count\n",
    "    \n",
    "    @property\n",
    "    def needs_heat_lamp(self):\n",
    "        return (\n",
    "            self.has_scales and\n",
    "            self.lays_eggs and\n",
    "            not self.drinks_milk)"
   ]
  },
  {
   "cell_type": "code",
   "execution_count": 119,
   "metadata": {
    "collapsed": false
   },
   "outputs": [
    {
     "name": "stdout",
     "output_type": "stream",
     "text": [
      "Gregory the Gila Monster needs a heat lamp? True\n"
     ]
    }
   ],
   "source": [
    "my_pet = Pet('Gregory the Gila Monster', 3, has_scales=True, lays_eggs=True)\n",
    "print('%s needs a heat lamp? %s' % (my_pet.name, my_pet.needs_heat_lamp))"
   ]
  },
  {
   "cell_type": "code",
   "execution_count": 120,
   "metadata": {
    "collapsed": false
   },
   "outputs": [
    {
     "name": "stdout",
     "output_type": "stream",
     "text": [
      "Gregory the Gila Monster ate 5 treats\n"
     ]
    }
   ],
   "source": [
    "my_pet.give_treats(3)\n",
    "my_pet.give_treats(2)\n",
    "print('%s ate %d treats' % (my_pet.name, my_pet.treats_eaten))"
   ]
  },
  {
   "cell_type": "markdown",
   "metadata": {},
   "source": [
    "---\n",
    "\n",
    "Maybe this class has too many responsibilities. We should separate the details of what the animal is and its intrinsic attributes from what we know about the pet."
   ]
  },
  {
   "cell_type": "code",
   "execution_count": 103,
   "metadata": {
    "collapsed": true
   },
   "outputs": [],
   "source": [
    "import warnings"
   ]
  },
  {
   "cell_type": "code",
   "execution_count": 125,
   "metadata": {
    "collapsed": false
   },
   "outputs": [],
   "source": [
    "class Animal:\n",
    "    def __init__(self, *, has_scales=False, lays_eggs=False, drinks_milk=False):\n",
    "        self.has_scales = has_scales\n",
    "        self.lays_eggs = lays_eggs\n",
    "        self.drinks_milk = drinks_milk\n",
    "\n",
    "class Pet:\n",
    "    def __init__(self, name, age, animal=None, **kwargs):\n",
    "        self.name = name\n",
    "        self.age = age\n",
    "        self.treats_eaten = 0\n",
    "\n",
    "        if kwargs and animal is not None:\n",
    "            raise TypeError('Must supply either an Animal instance or keyword arguments')\n",
    "\n",
    "        if kwargs:\n",
    "            warnings.warn('Must directly pass an Animal instance', DeprecationWarning)\n",
    "            animal = Animal(**kwargs)\n",
    "        elif animal is None:\n",
    "            raise TypeError('Must supply \"animal\"')\n",
    "        \n",
    "        self.animal = animal\n",
    "\n",
    "    def give_treats(self, count):\n",
    "        self.treats_eaten += count\n",
    "\n",
    "    @property\n",
    "    def needs_heat_lamp(self):  # Changed to reference self.animal\n",
    "        return (\n",
    "            self.animal.has_scales and\n",
    "            self.animal.lays_eggs and\n",
    "            not self.animal.drinks_milk)\n",
    "\n",
    "    @property\n",
    "    def has_scales(self):\n",
    "        warnings.warn('Use animal.has_scales instead', DeprecationWarning)\n",
    "        return self.animal.has_scales\n",
    "\n",
    "    @property\n",
    "    def lays_eggs(self):\n",
    "        warnings.warn('Use animal.lays_eggs instead', DeprecationWarning)\n",
    "        return self.animal.lays_eggs\n",
    "\n",
    "    @property\n",
    "    def drinks_milk(self):\n",
    "        warnings.warn('Use animal.drinks_milk instead', DeprecationWarning)\n",
    "        return self.animal.drinks_milk"
   ]
  },
  {
   "cell_type": "markdown",
   "metadata": {},
   "source": [
    "---\n",
    "\n",
    "Old usage keeps working"
   ]
  },
  {
   "cell_type": "code",
   "execution_count": 126,
   "metadata": {
    "collapsed": false
   },
   "outputs": [
    {
     "name": "stdout",
     "output_type": "stream",
     "text": [
      "Gregory the Gila Monster needs a heat lamp? True\n"
     ]
    },
    {
     "name": "stderr",
     "output_type": "stream",
     "text": [
      "/Users/bslatkin/projects/pycon2016/lib/python3.5/site-packages/ipykernel/__main__.py:17: DeprecationWarning: Must directly pass an Animal instance\n"
     ]
    }
   ],
   "source": [
    "my_pet = Pet('Gregory the Gila Monster', 3, has_scales=True, lays_eggs=True)  # Warning expected\n",
    "print('%s needs a heat lamp? %s' % (my_pet.name, my_pet.needs_heat_lamp))"
   ]
  },
  {
   "cell_type": "markdown",
   "metadata": {},
   "source": [
    "---\n",
    "\n",
    "Missing parameters for new usage will break like you called the function incorrectly."
   ]
  },
  {
   "cell_type": "code",
   "execution_count": 127,
   "metadata": {
    "collapsed": false
   },
   "outputs": [
    {
     "ename": "TypeError",
     "evalue": "Must supply \"animal\"",
     "output_type": "error",
     "traceback": [
      "\u001b[0;31m---------------------------------------------------------------------------\u001b[0m",
      "\u001b[0;31mTypeError\u001b[0m                                 Traceback (most recent call last)",
      "\u001b[0;32m<ipython-input-127-938fe041c963>\u001b[0m in \u001b[0;36m<module>\u001b[0;34m()\u001b[0m\n\u001b[0;32m----> 1\u001b[0;31m \u001b[0mmy_pet\u001b[0m \u001b[0;34m=\u001b[0m \u001b[0mPet\u001b[0m\u001b[0;34m(\u001b[0m\u001b[0;34m'Gregory the Gila Monster'\u001b[0m\u001b[0;34m,\u001b[0m \u001b[0;36m3\u001b[0m\u001b[0;34m)\u001b[0m  \u001b[0;31m# Error expected\u001b[0m\u001b[0;34m\u001b[0m\u001b[0m\n\u001b[0m",
      "\u001b[0;32m<ipython-input-125-b046ad0a9c24>\u001b[0m in \u001b[0;36m__init__\u001b[0;34m(self, name, age, animal, **kwargs)\u001b[0m\n\u001b[1;32m     18\u001b[0m             \u001b[0manimal\u001b[0m \u001b[0;34m=\u001b[0m \u001b[0mAnimal\u001b[0m\u001b[0;34m(\u001b[0m\u001b[0;34m**\u001b[0m\u001b[0mkwargs\u001b[0m\u001b[0;34m)\u001b[0m\u001b[0;34m\u001b[0m\u001b[0m\n\u001b[1;32m     19\u001b[0m         \u001b[0;32melif\u001b[0m \u001b[0manimal\u001b[0m \u001b[0;32mis\u001b[0m \u001b[0;32mNone\u001b[0m\u001b[0;34m:\u001b[0m\u001b[0;34m\u001b[0m\u001b[0m\n\u001b[0;32m---> 20\u001b[0;31m             \u001b[0;32mraise\u001b[0m \u001b[0mTypeError\u001b[0m\u001b[0;34m(\u001b[0m\u001b[0;34m'Must supply \"animal\"'\u001b[0m\u001b[0;34m)\u001b[0m\u001b[0;34m\u001b[0m\u001b[0m\n\u001b[0m\u001b[1;32m     21\u001b[0m \u001b[0;34m\u001b[0m\u001b[0m\n\u001b[1;32m     22\u001b[0m         \u001b[0mself\u001b[0m\u001b[0;34m.\u001b[0m\u001b[0manimal\u001b[0m \u001b[0;34m=\u001b[0m \u001b[0manimal\u001b[0m\u001b[0;34m\u001b[0m\u001b[0m\n",
      "\u001b[0;31mTypeError\u001b[0m: Must supply \"animal\""
     ]
    }
   ],
   "source": [
    "my_pet = Pet('Gregory the Gila Monster', 3)  # Error expected"
   ]
  },
  {
   "cell_type": "markdown",
   "metadata": {},
   "source": [
    "Providing both types of usage will fail."
   ]
  },
  {
   "cell_type": "code",
   "execution_count": 128,
   "metadata": {
    "collapsed": false
   },
   "outputs": [
    {
     "ename": "TypeError",
     "evalue": "Must supply either an Animal instance or keyword arguments",
     "output_type": "error",
     "traceback": [
      "\u001b[0;31m---------------------------------------------------------------------------\u001b[0m",
      "\u001b[0;31mTypeError\u001b[0m                                 Traceback (most recent call last)",
      "\u001b[0;32m<ipython-input-128-466fa4f51927>\u001b[0m in \u001b[0;36m<module>\u001b[0;34m()\u001b[0m\n\u001b[0;32m----> 1\u001b[0;31m \u001b[0mmy_pet\u001b[0m \u001b[0;34m=\u001b[0m \u001b[0mPet\u001b[0m\u001b[0;34m(\u001b[0m\u001b[0;34m'Gregory the Gila Monster'\u001b[0m\u001b[0;34m,\u001b[0m \u001b[0;36m3\u001b[0m\u001b[0;34m,\u001b[0m \u001b[0manimal\u001b[0m\u001b[0;34m,\u001b[0m \u001b[0mhas_scales\u001b[0m\u001b[0;34m=\u001b[0m\u001b[0;32mTrue\u001b[0m\u001b[0;34m)\u001b[0m  \u001b[0;31m# Error expected\u001b[0m\u001b[0;34m\u001b[0m\u001b[0m\n\u001b[0m",
      "\u001b[0;32m<ipython-input-125-b046ad0a9c24>\u001b[0m in \u001b[0;36m__init__\u001b[0;34m(self, name, age, animal, **kwargs)\u001b[0m\n\u001b[1;32m     12\u001b[0m \u001b[0;34m\u001b[0m\u001b[0m\n\u001b[1;32m     13\u001b[0m         \u001b[0;32mif\u001b[0m \u001b[0mkwargs\u001b[0m \u001b[0;32mand\u001b[0m \u001b[0manimal\u001b[0m \u001b[0;32mis\u001b[0m \u001b[0;32mnot\u001b[0m \u001b[0;32mNone\u001b[0m\u001b[0;34m:\u001b[0m\u001b[0;34m\u001b[0m\u001b[0m\n\u001b[0;32m---> 14\u001b[0;31m             \u001b[0;32mraise\u001b[0m \u001b[0mTypeError\u001b[0m\u001b[0;34m(\u001b[0m\u001b[0;34m'Must supply either an Animal instance or keyword arguments'\u001b[0m\u001b[0;34m)\u001b[0m\u001b[0;34m\u001b[0m\u001b[0m\n\u001b[0m\u001b[1;32m     15\u001b[0m \u001b[0;34m\u001b[0m\u001b[0m\n\u001b[1;32m     16\u001b[0m         \u001b[0;32mif\u001b[0m \u001b[0mkwargs\u001b[0m\u001b[0;34m:\u001b[0m\u001b[0;34m\u001b[0m\u001b[0m\n",
      "\u001b[0;31mTypeError\u001b[0m: Must supply either an Animal instance or keyword arguments"
     ]
    }
   ],
   "source": [
    "my_pet = Pet('Gregory the Gila Monster', 3, animal, has_scales=True)  # Error expected"
   ]
  },
  {
   "cell_type": "markdown",
   "metadata": {},
   "source": [
    "---\n",
    "\n",
    "New usage works and no warnings."
   ]
  },
  {
   "cell_type": "code",
   "execution_count": 130,
   "metadata": {
    "collapsed": false
   },
   "outputs": [
    {
     "name": "stdout",
     "output_type": "stream",
     "text": [
      "Gregory the Gila Monster needs a heat lamp? True\n"
     ]
    }
   ],
   "source": [
    "animal = Animal(has_scales=True, lays_eggs=True)\n",
    "my_pet = Pet('Gregory the Gila Monster', 3, animal)\n",
    "print('%s needs a heat lamp? %s' % (my_pet.name, my_pet.needs_heat_lamp))"
   ]
  },
  {
   "cell_type": "markdown",
   "metadata": {},
   "source": [
    "---\n",
    "\n",
    "Now assume that all of the references have been moved to the new version."
   ]
  },
  {
   "cell_type": "code",
   "execution_count": 70,
   "metadata": {
    "collapsed": true
   },
   "outputs": [],
   "source": [
    "class Animal:\n",
    "    def __init__(self, *, has_scales=False, lays_eggs=False, drinks_milk=False):\n",
    "        self.has_scales = has_scales\n",
    "        self.lays_eggs = lays_eggs\n",
    "        self.drinks_milk = drinks_milk\n",
    "\n",
    "class Pet:\n",
    "    def __init__(self, name, age, animal):\n",
    "        self.name = name\n",
    "        self.age = age\n",
    "        self.animal = animal\n",
    "        self.treats_eaten = 0\n",
    "\n",
    "    def give_treats(self, count):\n",
    "        self.treats_eaten += count\n",
    "\n",
    "    @property\n",
    "    def needs_heat_lamp(self):\n",
    "        return (\n",
    "            self.animal.has_scales and\n",
    "            self.animal.lays_eggs and\n",
    "            not self.animal.drinks_milk)"
   ]
  },
  {
   "cell_type": "code",
   "execution_count": 131,
   "metadata": {
    "collapsed": false
   },
   "outputs": [
    {
     "name": "stdout",
     "output_type": "stream",
     "text": [
      "Gregory the Gila Monster needs a heat lamp? True\n"
     ]
    }
   ],
   "source": [
    "animal = Animal(has_scales=True, lays_eggs=True)\n",
    "my_pet = Pet('Gregory the Gila Monster', 3, animal)\n",
    "print('%s needs a heat lamp? %s' % (my_pet.name, my_pet.needs_heat_lamp))"
   ]
  },
  {
   "cell_type": "markdown",
   "metadata": {},
   "source": [
    "---\n",
    "\n",
    "Now we want to move the `needs_heat_lamp` method into the `Animal` class. It's best not to refactor too many things at the same time. The point here is you can do it piecemeal and you'll existing a transitional state where part of your APIs looks good and part of it doesn't look good yet."
   ]
  },
  {
   "cell_type": "code",
   "execution_count": 132,
   "metadata": {
    "collapsed": true
   },
   "outputs": [],
   "source": [
    "class Animal:\n",
    "    def __init__(self, *, has_scales=False, lays_eggs=False, drinks_milk=False):\n",
    "        self.has_scales = has_scales\n",
    "        self.lays_eggs = lays_eggs\n",
    "        self.drinks_milk = drinks_milk\n",
    "\n",
    "    @property\n",
    "    def needs_heat_lamp(self):\n",
    "        return (\n",
    "            self.has_scales and\n",
    "            self.lays_eggs and\n",
    "            not self.drinks_milk)\n",
    "        \n",
    "class Pet:\n",
    "    def __init__(self, name, age, animal):\n",
    "        self.name = name\n",
    "        self.age = age\n",
    "        self.animal = animal\n",
    "        self.treats_eaten = 0\n",
    "\n",
    "    def give_treats(self, count):\n",
    "        self.treats_eaten += count\n",
    "\n",
    "    @property\n",
    "    def needs_heat_lamp(self):\n",
    "        warnings.warn('Must use animal.needs_heat_lamp', DeprecationWarning)\n",
    "        return self.animal.needs_heat_lamp"
   ]
  },
  {
   "cell_type": "code",
   "execution_count": 133,
   "metadata": {
    "collapsed": false
   },
   "outputs": [
    {
     "name": "stdout",
     "output_type": "stream",
     "text": [
      "Gregory the Gila Monster needs a heat lamp? True\n"
     ]
    },
    {
     "name": "stderr",
     "output_type": "stream",
     "text": [
      "/Users/bslatkin/projects/pycon2016/lib/python3.5/site-packages/ipykernel/__main__.py:26: DeprecationWarning: Must use animal.needs_heat_lamp\n"
     ]
    }
   ],
   "source": [
    "animal = Animal(has_scales=True, lays_eggs=True)\n",
    "my_pet = Pet('Gregory the Gila Monster', 3, animal)\n",
    "print('%s needs a heat lamp? %s' % (my_pet.name, my_pet.needs_heat_lamp))  # Warning expected"
   ]
  },
  {
   "cell_type": "markdown",
   "metadata": {},
   "source": [
    "Fix all of the usages"
   ]
  },
  {
   "cell_type": "code",
   "execution_count": 145,
   "metadata": {
    "collapsed": true
   },
   "outputs": [],
   "source": [
    "class Animal:\n",
    "    def __init__(self, *, has_scales=False, lays_eggs=False, drinks_milk=False):\n",
    "        self.has_scales = has_scales\n",
    "        self.lays_eggs = lays_eggs\n",
    "        self.drinks_milk = drinks_milk\n",
    "\n",
    "    @property\n",
    "    def needs_heat_lamp(self):\n",
    "        return (\n",
    "            self.has_scales and\n",
    "            self.lays_eggs and\n",
    "            not self.drinks_milk)\n",
    "        \n",
    "class Pet:\n",
    "    def __init__(self, name, age, animal):\n",
    "        self.name = name\n",
    "        self.age = age\n",
    "        self.animal = animal\n",
    "        self.treats_eaten = 0\n",
    "\n",
    "    def give_treats(self, count):\n",
    "        self.treats_eaten += count"
   ]
  },
  {
   "cell_type": "markdown",
   "metadata": {},
   "source": [
    "Old usage stops working"
   ]
  },
  {
   "cell_type": "code",
   "execution_count": 146,
   "metadata": {
    "collapsed": false
   },
   "outputs": [
    {
     "ename": "AttributeError",
     "evalue": "'Pet' object has no attribute 'needs_heat_lamp'",
     "output_type": "error",
     "traceback": [
      "\u001b[0;31m---------------------------------------------------------------------------\u001b[0m",
      "\u001b[0;31mAttributeError\u001b[0m                            Traceback (most recent call last)",
      "\u001b[0;32m<ipython-input-146-f69549272b2c>\u001b[0m in \u001b[0;36m<module>\u001b[0;34m()\u001b[0m\n\u001b[1;32m      1\u001b[0m \u001b[0manimal\u001b[0m \u001b[0;34m=\u001b[0m \u001b[0mAnimal\u001b[0m\u001b[0;34m(\u001b[0m\u001b[0mhas_scales\u001b[0m\u001b[0;34m=\u001b[0m\u001b[0;32mTrue\u001b[0m\u001b[0;34m,\u001b[0m \u001b[0mlays_eggs\u001b[0m\u001b[0;34m=\u001b[0m\u001b[0;32mTrue\u001b[0m\u001b[0;34m)\u001b[0m\u001b[0;34m\u001b[0m\u001b[0m\n\u001b[1;32m      2\u001b[0m \u001b[0mmy_pet\u001b[0m \u001b[0;34m=\u001b[0m \u001b[0mPet\u001b[0m\u001b[0;34m(\u001b[0m\u001b[0;34m'Gregory the Gila Monster'\u001b[0m\u001b[0;34m,\u001b[0m \u001b[0;36m3\u001b[0m\u001b[0;34m,\u001b[0m \u001b[0manimal\u001b[0m\u001b[0;34m)\u001b[0m\u001b[0;34m\u001b[0m\u001b[0m\n\u001b[0;32m----> 3\u001b[0;31m \u001b[0mprint\u001b[0m\u001b[0;34m(\u001b[0m\u001b[0;34m'%s needs a heat lamp? %s'\u001b[0m \u001b[0;34m%\u001b[0m \u001b[0;34m(\u001b[0m\u001b[0mmy_pet\u001b[0m\u001b[0;34m.\u001b[0m\u001b[0mname\u001b[0m\u001b[0;34m,\u001b[0m \u001b[0mmy_pet\u001b[0m\u001b[0;34m.\u001b[0m\u001b[0mneeds_heat_lamp\u001b[0m\u001b[0;34m)\u001b[0m\u001b[0;34m)\u001b[0m  \u001b[0;31m# Error expected\u001b[0m\u001b[0;34m\u001b[0m\u001b[0m\n\u001b[0m",
      "\u001b[0;31mAttributeError\u001b[0m: 'Pet' object has no attribute 'needs_heat_lamp'"
     ]
    }
   ],
   "source": [
    "animal = Animal(has_scales=True, lays_eggs=True)\n",
    "my_pet = Pet('Gregory the Gila Monster', 3, animal)\n",
    "print('%s needs a heat lamp? %s' % (my_pet.name, my_pet.needs_heat_lamp))  # Error expected"
   ]
  },
  {
   "cell_type": "markdown",
   "metadata": {},
   "source": [
    "New usage works without any problems."
   ]
  },
  {
   "cell_type": "code",
   "execution_count": 147,
   "metadata": {
    "collapsed": false
   },
   "outputs": [
    {
     "name": "stdout",
     "output_type": "stream",
     "text": [
      "Gregory the Gila Monster needs a heat lamp? True\n"
     ]
    }
   ],
   "source": [
    "animal = Animal(has_scales=True, lays_eggs=True)\n",
    "my_pet = Pet('Gregory the Gila Monster', 3, animal)\n",
    "print('%s needs a heat lamp? %s' % (my_pet.name, my_pet.animal.needs_heat_lamp))"
   ]
  },
  {
   "cell_type": "markdown",
   "metadata": {},
   "source": [
    "This same approach works for both methods and `@property` methods."
   ]
  },
  {
   "cell_type": "markdown",
   "metadata": {},
   "source": [
    "---\n",
    "\n",
    "Another intrinsic property of the pet is its `age`. We should refactor this into the interior class. This is more challenging because it's a property being assigned. If you do it the same was as the other attributes, it will break."
   ]
  },
  {
   "cell_type": "code",
   "execution_count": 165,
   "metadata": {
    "collapsed": false
   },
   "outputs": [
    {
     "ename": "TypeError",
     "evalue": "__init__() missing 1 required positional argument: 'age'",
     "output_type": "error",
     "traceback": [
      "\u001b[0;31m---------------------------------------------------------------------------\u001b[0m",
      "\u001b[0;31mTypeError\u001b[0m                                 Traceback (most recent call last)",
      "\u001b[0;32m<ipython-input-165-7ecca59120c5>\u001b[0m in \u001b[0;36m<module>\u001b[0;34m()\u001b[0m\n\u001b[0;32m----> 1\u001b[0;31m \u001b[0manimal\u001b[0m \u001b[0;34m=\u001b[0m \u001b[0mAnimal\u001b[0m\u001b[0;34m(\u001b[0m\u001b[0mhas_scales\u001b[0m\u001b[0;34m=\u001b[0m\u001b[0;32mTrue\u001b[0m\u001b[0;34m,\u001b[0m \u001b[0mlays_eggs\u001b[0m\u001b[0;34m=\u001b[0m\u001b[0;32mTrue\u001b[0m\u001b[0;34m)\u001b[0m\u001b[0;34m\u001b[0m\u001b[0m\n\u001b[0m\u001b[1;32m      2\u001b[0m \u001b[0mmy_pet\u001b[0m \u001b[0;34m=\u001b[0m \u001b[0mPet\u001b[0m\u001b[0;34m(\u001b[0m\u001b[0;34m'Gregory the Gila Monster'\u001b[0m\u001b[0;34m,\u001b[0m \u001b[0;36m3\u001b[0m\u001b[0;34m,\u001b[0m \u001b[0manimal\u001b[0m\u001b[0;34m)\u001b[0m\u001b[0;34m\u001b[0m\u001b[0m\n\u001b[1;32m      3\u001b[0m \u001b[0mmy_pet\u001b[0m\u001b[0;34m.\u001b[0m\u001b[0mage\u001b[0m \u001b[0;34m=\u001b[0m \u001b[0;36m5\u001b[0m\u001b[0;34m\u001b[0m\u001b[0m\n\u001b[1;32m      4\u001b[0m \u001b[0mprint\u001b[0m\u001b[0;34m(\u001b[0m\u001b[0;34m'%s is %d years old'\u001b[0m \u001b[0;34m%\u001b[0m \u001b[0;34m(\u001b[0m\u001b[0mmy_pet\u001b[0m\u001b[0;34m.\u001b[0m\u001b[0mname\u001b[0m\u001b[0;34m,\u001b[0m \u001b[0mmy_pet\u001b[0m\u001b[0;34m.\u001b[0m\u001b[0mage\u001b[0m\u001b[0;34m)\u001b[0m\u001b[0;34m)\u001b[0m\u001b[0;34m\u001b[0m\u001b[0m\n",
      "\u001b[0;31mTypeError\u001b[0m: __init__() missing 1 required positional argument: 'age'"
     ]
    }
   ],
   "source": [
    "animal = Animal(has_scales=True, lays_eggs=True)\n",
    "my_pet = Pet('Gregory the Gila Monster', 3, animal)\n",
    "my_pet.age = 5\n",
    "print('%s is %d years old' % (my_pet.name, my_pet.age))"
   ]
  },
  {
   "cell_type": "code",
   "execution_count": 166,
   "metadata": {
    "collapsed": false
   },
   "outputs": [],
   "source": [
    "class Animal:\n",
    "    def __init__(self, age=None, *, has_scales=False, lays_eggs=False, drinks_milk=False):\n",
    "        if age is None:\n",
    "            warnings.warn('Should specify \"age\" for Animal')\n",
    "        self.age = age\n",
    "        self.has_scales = has_scales\n",
    "        self.lays_eggs = lays_eggs\n",
    "        self.drinks_milk = drinks_milk\n",
    "\n",
    "    @property\n",
    "    def needs_heat_lamp(self):\n",
    "        return (\n",
    "            self.has_scales and\n",
    "            self.lays_eggs and\n",
    "            not self.drinks_milk)\n",
    "        \n",
    "class Pet:\n",
    "    def __init__(self, name, age_or_animal, maybe_animal=None):\n",
    "        self.name = name\n",
    "\n",
    "        if maybe_animal is not None:\n",
    "            warnings.warn('Should specify \"age\" for Animal')\n",
    "            self.animal = maybe_animal\n",
    "            self.animal.age = age_or_animal\n",
    "        else:\n",
    "            self.animal = age_or_animal\n",
    "\n",
    "        self.treats_eaten = 0\n",
    "\n",
    "    def give_treats(self, count):\n",
    "        self.treats_eaten += count\n",
    "\n",
    "    @property\n",
    "    def age(self):\n",
    "        warnings.warn('Should use animal.age')\n",
    "        return self.animal.age"
   ]
  },
  {
   "cell_type": "code",
   "execution_count": 168,
   "metadata": {
    "collapsed": false
   },
   "outputs": [
    {
     "name": "stdout",
     "output_type": "stream",
     "text": [
      "Gregory the Gila Monster is 3 years old\n"
     ]
    },
    {
     "name": "stderr",
     "output_type": "stream",
     "text": [
      "/Users/bslatkin/projects/pycon2016/lib/python3.5/site-packages/ipykernel/__main__.py:4: UserWarning: Should specify \"age\" for Animal\n",
      "/Users/bslatkin/projects/pycon2016/lib/python3.5/site-packages/ipykernel/__main__.py:22: UserWarning: Should specify \"age\" for Animal\n",
      "/Users/bslatkin/projects/pycon2016/lib/python3.5/site-packages/ipykernel/__main__.py:35: UserWarning: Should use animal.age\n"
     ]
    }
   ],
   "source": [
    "animal = Animal(has_scales=True, lays_eggs=True)  # Warning expected\n",
    "my_pet = Pet('Gregory the Gila Monster', 3, animal)  # Warning expected\n",
    "print('%s is %d years old' % (my_pet.name, my_pet.age))  # Warning expected"
   ]
  },
  {
   "cell_type": "markdown",
   "metadata": {},
   "source": [
    "New usage has no warnings."
   ]
  },
  {
   "cell_type": "code",
   "execution_count": 169,
   "metadata": {
    "collapsed": false
   },
   "outputs": [
    {
     "name": "stdout",
     "output_type": "stream",
     "text": [
      "Gregory the Gila Monster is 3 years old\n"
     ]
    }
   ],
   "source": [
    "animal = Animal(3, has_scales=True, lays_eggs=True)\n",
    "my_pet = Pet('Gregory the Gila Monster', animal)\n",
    "print('%s is %d years old' % (my_pet.name, my_pet.animal.age))"
   ]
  },
  {
   "cell_type": "markdown",
   "metadata": {},
   "source": [
    "The middle state breaks when you try to assign to the age attribute."
   ]
  },
  {
   "cell_type": "code",
   "execution_count": 170,
   "metadata": {
    "collapsed": false
   },
   "outputs": [
    {
     "ename": "AttributeError",
     "evalue": "can't set attribute",
     "output_type": "error",
     "traceback": [
      "\u001b[0;31m---------------------------------------------------------------------------\u001b[0m",
      "\u001b[0;31mAttributeError\u001b[0m                            Traceback (most recent call last)",
      "\u001b[0;32m<ipython-input-170-b266f855d188>\u001b[0m in \u001b[0;36m<module>\u001b[0;34m()\u001b[0m\n\u001b[0;32m----> 1\u001b[0;31m \u001b[0mmy_pet\u001b[0m\u001b[0;34m.\u001b[0m\u001b[0mage\u001b[0m \u001b[0;34m=\u001b[0m \u001b[0;36m5\u001b[0m  \u001b[0;31m# Error expected\u001b[0m\u001b[0;34m\u001b[0m\u001b[0m\n\u001b[0m",
      "\u001b[0;31mAttributeError\u001b[0m: can't set attribute"
     ]
    }
   ],
   "source": [
    "my_pet.age = 5  # Error expected"
   ]
  },
  {
   "cell_type": "markdown",
   "metadata": {},
   "source": [
    "What's missing is the `@property.setter` that can properly handle assignment during the transition period."
   ]
  },
  {
   "cell_type": "code",
   "execution_count": 179,
   "metadata": {
    "collapsed": true
   },
   "outputs": [],
   "source": [
    "class Animal:\n",
    "    def __init__(self, age=None, *, has_scales=False, lays_eggs=False, drinks_milk=False):\n",
    "        if age is None:\n",
    "            warnings.warn('Should specify \"age\" for Animal')\n",
    "        self.age = age\n",
    "        self.has_scales = has_scales\n",
    "        self.lays_eggs = lays_eggs\n",
    "        self.drinks_milk = drinks_milk\n",
    "\n",
    "    @property\n",
    "    def needs_heat_lamp(self):\n",
    "        return (\n",
    "            self.has_scales and\n",
    "            self.lays_eggs and\n",
    "            not self.drinks_milk)\n",
    "        \n",
    "class Pet:\n",
    "    def __init__(self, name, age_or_animal, maybe_animal=None):\n",
    "        self.name = name\n",
    "\n",
    "        if maybe_animal is not None:\n",
    "            warnings.warn('Should specify \"age\" for Animal')\n",
    "            self.animal = maybe_animal\n",
    "            self.animal.age = age_or_animal\n",
    "        else:\n",
    "            self.animal = age_or_animal\n",
    "\n",
    "        self.treats_eaten = 0\n",
    "\n",
    "    def give_treats(self, count):\n",
    "        self.treats_eaten += count\n",
    "\n",
    "    @property\n",
    "    def age(self):\n",
    "        warnings.warn('Should use animal.age')\n",
    "        return self.animal.age\n",
    "\n",
    "    @age.setter\n",
    "    def age(self, new_age):\n",
    "        warnings.warn('Should assign animal.age')\n",
    "        self.animal.age = new_age"
   ]
  },
  {
   "cell_type": "code",
   "execution_count": 180,
   "metadata": {
    "collapsed": false
   },
   "outputs": [
    {
     "name": "stderr",
     "output_type": "stream",
     "text": [
      "/Users/bslatkin/projects/pycon2016/lib/python3.5/site-packages/ipykernel/__main__.py:40: UserWarning: Should assign animal.age\n"
     ]
    }
   ],
   "source": [
    "animal = Animal(3, has_scales=True, lays_eggs=True)\n",
    "my_pet = Pet('Gregory the Gila Monster', animal)\n",
    "my_pet.age = 5  # Warning expected"
   ]
  },
  {
   "cell_type": "markdown",
   "metadata": {},
   "source": [
    "Now we can move everything over to the new usage, and remove the old way."
   ]
  },
  {
   "cell_type": "code",
   "execution_count": 183,
   "metadata": {
    "collapsed": false
   },
   "outputs": [],
   "source": [
    "class Animal:\n",
    "    def __init__(self, age, *, has_scales=False, lays_eggs=False, drinks_milk=False):\n",
    "        self.age = age\n",
    "        self.has_scales = has_scales\n",
    "        self.lays_eggs = lays_eggs\n",
    "        self.drinks_milk = drinks_milk\n",
    "\n",
    "    @property\n",
    "    def needs_heat_lamp(self):\n",
    "        return (\n",
    "            self.has_scales and\n",
    "            self.lays_eggs and\n",
    "            not self.drinks_milk)\n",
    "        \n",
    "class Pet:\n",
    "    def __init__(self, name, animal):\n",
    "        self.name = name\n",
    "        self.animal = animal\n",
    "        self.treats_eaten = 0\n",
    "\n",
    "    def give_treats(self, count):\n",
    "        self.treats_eaten += count"
   ]
  },
  {
   "cell_type": "code",
   "execution_count": 185,
   "metadata": {
    "collapsed": false
   },
   "outputs": [
    {
     "name": "stdout",
     "output_type": "stream",
     "text": [
      "Gregory the Gila Monster is 5 years old\n"
     ]
    }
   ],
   "source": [
    "animal = Animal(3, has_scales=True, lays_eggs=True)\n",
    "my_pet = Pet('Gregory the Gila Monster', animal)\n",
    "my_pet.animal.age = 5\n",
    "print('%s is %d years old' % (my_pet.name, my_pet.animal.age))"
   ]
  },
  {
   "cell_type": "markdown",
   "metadata": {},
   "source": [
    "---\n",
    "\n",
    "One gotcha is you can still accidentally use the old assignments because Python will add an attribute to a class when it's assigned."
   ]
  },
  {
   "cell_type": "code",
   "execution_count": 188,
   "metadata": {
    "collapsed": false
   },
   "outputs": [
    {
     "name": "stdout",
     "output_type": "stream",
     "text": [
      "Gregory the Gila Monster is 3 years old\n"
     ]
    }
   ],
   "source": [
    "animal = Animal(3, has_scales=True, lays_eggs=True)\n",
    "my_pet = Pet('Gregory the Gila Monster', animal)\n",
    "my_pet.age = 5  # Old usage doesn't raise an error\n",
    "print('%s is %d years old' % (my_pet.name, my_pet.animal.age))  # Prints wrong result"
   ]
  },
  {
   "cell_type": "markdown",
   "metadata": {},
   "source": [
    "So you can be extra paranoid for old usage a leave a tombstone property to prevent this. Old habits and muscle memory die hard."
   ]
  },
  {
   "cell_type": "code",
   "execution_count": 189,
   "metadata": {
    "collapsed": true
   },
   "outputs": [],
   "source": [
    "class Animal:\n",
    "    def __init__(self, age, *, has_scales=False, lays_eggs=False, drinks_milk=False):\n",
    "        self.age = age\n",
    "        self.has_scales = has_scales\n",
    "        self.lays_eggs = lays_eggs\n",
    "        self.drinks_milk = drinks_milk\n",
    "\n",
    "    @property\n",
    "    def needs_heat_lamp(self):\n",
    "        return (\n",
    "            self.has_scales and\n",
    "            self.lays_eggs and\n",
    "            not self.drinks_milk)\n",
    "        \n",
    "class Pet:\n",
    "    def __init__(self, name, animal):\n",
    "        self.name = name\n",
    "        self.animal = animal\n",
    "        self.treats_eaten = 0\n",
    "\n",
    "    def give_treats(self, count):\n",
    "        self.treats_eaten += count\n",
    "\n",
    "    @property\n",
    "    def age(self):\n",
    "        raise AttributeError('Must use animal.age')\n",
    "\n",
    "    @age.setter\n",
    "    def age(self, new_age):\n",
    "        raise AttributeError('Must assign animal.age')"
   ]
  },
  {
   "cell_type": "markdown",
   "metadata": {},
   "source": [
    "Now we'll get an error immediately on accidental usage of the pre-migration approach."
   ]
  },
  {
   "cell_type": "code",
   "execution_count": 191,
   "metadata": {
    "collapsed": false
   },
   "outputs": [
    {
     "ename": "AttributeError",
     "evalue": "Must assign animal.age",
     "output_type": "error",
     "traceback": [
      "\u001b[0;31m---------------------------------------------------------------------------\u001b[0m",
      "\u001b[0;31mAttributeError\u001b[0m                            Traceback (most recent call last)",
      "\u001b[0;32m<ipython-input-191-335889f408a7>\u001b[0m in \u001b[0;36m<module>\u001b[0;34m()\u001b[0m\n\u001b[1;32m      1\u001b[0m \u001b[0manimal\u001b[0m \u001b[0;34m=\u001b[0m \u001b[0mAnimal\u001b[0m\u001b[0;34m(\u001b[0m\u001b[0;36m3\u001b[0m\u001b[0;34m,\u001b[0m \u001b[0mhas_scales\u001b[0m\u001b[0;34m=\u001b[0m\u001b[0;32mTrue\u001b[0m\u001b[0;34m,\u001b[0m \u001b[0mlays_eggs\u001b[0m\u001b[0;34m=\u001b[0m\u001b[0;32mTrue\u001b[0m\u001b[0;34m)\u001b[0m\u001b[0;34m\u001b[0m\u001b[0m\n\u001b[1;32m      2\u001b[0m \u001b[0mmy_pet\u001b[0m \u001b[0;34m=\u001b[0m \u001b[0mPet\u001b[0m\u001b[0;34m(\u001b[0m\u001b[0;34m'Gregory the Gila Monster'\u001b[0m\u001b[0;34m,\u001b[0m \u001b[0manimal\u001b[0m\u001b[0;34m)\u001b[0m\u001b[0;34m\u001b[0m\u001b[0m\n\u001b[0;32m----> 3\u001b[0;31m \u001b[0mmy_pet\u001b[0m\u001b[0;34m.\u001b[0m\u001b[0mage\u001b[0m \u001b[0;34m=\u001b[0m \u001b[0;36m5\u001b[0m  \u001b[0;31m# Old usage raises an error\u001b[0m\u001b[0;34m\u001b[0m\u001b[0m\n\u001b[0m",
      "\u001b[0;32m<ipython-input-189-a0d34bf184e6>\u001b[0m in \u001b[0;36mage\u001b[0;34m(self, new_age)\u001b[0m\n\u001b[1;32m     28\u001b[0m     \u001b[0;34m@\u001b[0m\u001b[0mage\u001b[0m\u001b[0;34m.\u001b[0m\u001b[0msetter\u001b[0m\u001b[0;34m\u001b[0m\u001b[0m\n\u001b[1;32m     29\u001b[0m     \u001b[0;32mdef\u001b[0m \u001b[0mage\u001b[0m\u001b[0;34m(\u001b[0m\u001b[0mself\u001b[0m\u001b[0;34m,\u001b[0m \u001b[0mnew_age\u001b[0m\u001b[0;34m)\u001b[0m\u001b[0;34m:\u001b[0m\u001b[0;34m\u001b[0m\u001b[0m\n\u001b[0;32m---> 30\u001b[0;31m         \u001b[0;32mraise\u001b[0m \u001b[0mAttributeError\u001b[0m\u001b[0;34m(\u001b[0m\u001b[0;34m'Must assign animal.age'\u001b[0m\u001b[0;34m)\u001b[0m\u001b[0;34m\u001b[0m\u001b[0m\n\u001b[0m",
      "\u001b[0;31mAttributeError\u001b[0m: Must assign animal.age"
     ]
    }
   ],
   "source": [
    "animal = Animal(3, has_scales=True, lays_eggs=True)\n",
    "my_pet = Pet('Gregory the Gila Monster', animal)\n",
    "my_pet.age = 5  # Old usage raises an error"
   ]
  },
  {
   "cell_type": "code",
   "execution_count": null,
   "metadata": {
    "collapsed": true
   },
   "outputs": [],
   "source": []
  }
 ],
 "metadata": {
  "kernelspec": {
   "display_name": "Python 3",
   "language": "python",
   "name": "python3"
  },
  "language_info": {
   "codemirror_mode": {
    "name": "ipython",
    "version": 3
   },
   "file_extension": ".py",
   "mimetype": "text/x-python",
   "name": "python",
   "nbconvert_exporter": "python",
   "pygments_lexer": "ipython3",
   "version": "3.5.1"
  }
 },
 "nbformat": 4,
 "nbformat_minor": 0
}
