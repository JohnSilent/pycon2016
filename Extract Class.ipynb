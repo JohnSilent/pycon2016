{
 "cells": [
  {
   "cell_type": "markdown",
   "metadata": {},
   "source": [
    "# Example 5: Extract Class\n",
    "\n",
    "[Extract class in the refactoring catalog.](http://refactoring.com/catalog/extractClass.html)"
   ]
  },
  {
   "cell_type": "markdown",
   "metadata": {},
   "source": [
    "- Do this when a class is responsible for too many things (> 5 methods, > 5 properties)\n",
    "- Define a new class with all the fields you need to do the work.\n",
    "- Implement `@property` and `@property.setter` to point at the new helper class so old usage continues to work.\n",
    "- Move the methods that interact with these properties onto the interior class, instead of on the exterior class. Use `@property` to point existing usage at the new helper class.\n",
    "- Use warnings to track down old usage. Move that usage to directly interact with the interior class. Remove all the `@property`s you used for indirection."
   ]
  },
  {
   "cell_type": "code",
   "execution_count": null,
   "metadata": {
    "collapsed": true
   },
   "outputs": [],
   "source": []
  }
 ],
 "metadata": {
  "kernelspec": {
   "display_name": "Python 3",
   "language": "python",
   "name": "python3"
  },
  "language_info": {
   "codemirror_mode": {
    "name": "ipython",
    "version": 3
   },
   "file_extension": ".py",
   "mimetype": "text/x-python",
   "name": "python",
   "nbconvert_exporter": "python",
   "pygments_lexer": "ipython3",
   "version": "3.5.1"
  }
 },
 "nbformat": 4,
 "nbformat_minor": 0
}
