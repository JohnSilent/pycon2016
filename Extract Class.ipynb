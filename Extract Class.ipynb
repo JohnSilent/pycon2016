{
 "cells": [
  {
   "cell_type": "markdown",
   "metadata": {},
   "source": [
    "# Example 5: Extract Class, Move Field, Move Method\n",
    "\n",
    "[Extract class in the refactoring catalog.](http://refactoring.com/catalog/extractClass.html)\n",
    "\n",
    "[Move field in the refactoring catalog](http://refactoring.com/catalog/moveField.html).\n",
    "\n",
    "[Move method in the refactoring catalog](http://refactoring.com/catalog/moveMethod.html)."
   ]
  },
  {
   "cell_type": "markdown",
   "metadata": {},
   "source": [
    "- Do this when a class is responsible for too many things (> 5 methods, > 5 properties)\n",
    "- Define a new class with all the fields you need to do the work.\n",
    "- Implement `@property` and `@property.setter` to point at the new helper class so old usage continues to work.\n",
    "- Move the methods that interact with these properties onto the interior class, instead of on the exterior class. Use `@property` to point existing usage at the new helper class.\n",
    "- Use warnings to track down old usage. Move that usage to directly interact with the interior class. Remove all the `@property`s you used for indirection."
   ]
  },
  {
   "cell_type": "code",
   "execution_count": 2,
   "metadata": {
    "collapsed": true
   },
   "outputs": [],
   "source": [
    "class Pet:\n",
    "    def __init__(self, name):\n",
    "        self.name = name"
   ]
  },
  {
   "cell_type": "code",
   "execution_count": 4,
   "metadata": {
    "collapsed": false
   },
   "outputs": [
    {
     "name": "stdout",
     "output_type": "stream",
     "text": [
      "Shadow\n"
     ]
    }
   ],
   "source": [
    "my_pet = Pet('Shadow')\n",
    "print(my_pet.name)"
   ]
  },
  {
   "cell_type": "markdown",
   "metadata": {},
   "source": [
    "---\n",
    "\n",
    "More complex"
   ]
  },
  {
   "cell_type": "code",
   "execution_count": 50,
   "metadata": {
    "collapsed": true
   },
   "outputs": [],
   "source": [
    "class Pet:\n",
    "    def __init__(self, name, joined_family):\n",
    "        self.name = name\n",
    "        self.joined_family = joined_family"
   ]
  },
  {
   "cell_type": "code",
   "execution_count": 51,
   "metadata": {
    "collapsed": true
   },
   "outputs": [],
   "source": [
    "import datetime"
   ]
  },
  {
   "cell_type": "code",
   "execution_count": 52,
   "metadata": {
    "collapsed": false
   },
   "outputs": [
    {
     "name": "stdout",
     "output_type": "stream",
     "text": [
      "Shadow was adopted on 2016-05-21\n"
     ]
    }
   ],
   "source": [
    "adoption_date = datetime.date.today()\n",
    "my_pet = Pet('Shadow', adoption_date)\n",
    "print('%s was adopted on %s' % (my_pet.name, my_pet.joined_family))"
   ]
  },
  {
   "cell_type": "markdown",
   "metadata": {},
   "source": [
    "---\n",
    "\n",
    "Now we want to know what kind of pet it is, so we add various attributes and helper methods."
   ]
  },
  {
   "cell_type": "code",
   "execution_count": 53,
   "metadata": {
    "collapsed": true
   },
   "outputs": [],
   "source": [
    "class Pet:\n",
    "    def __init__(self, name, joined_family, *, has_scales=False, lays_eggs=False, drinks_milk=False):\n",
    "        self.name = name\n",
    "        self.joined_family = joined_family\n",
    "        self.has_scales = has_scales\n",
    "        self.lays_eggs = lays_eggs\n",
    "        self.drinks_milk = drinks_milk\n",
    "\n",
    "    @property\n",
    "    def is_mammal(self):\n",
    "        return (\n",
    "            self.drinks_milk and\n",
    "            not self.has_scales and\n",
    "            not self.lays_eggs)"
   ]
  },
  {
   "cell_type": "code",
   "execution_count": 54,
   "metadata": {
    "collapsed": false
   },
   "outputs": [
    {
     "name": "stdout",
     "output_type": "stream",
     "text": [
      "Shadow is a mammal? True\n"
     ]
    }
   ],
   "source": [
    "my_pet = Pet('Shadow', adoption_date, drinks_milk=True)\n",
    "print('%s is a mammal? %s' % (my_pet.name, my_pet.is_mammal))"
   ]
  },
  {
   "cell_type": "markdown",
   "metadata": {},
   "source": [
    "---\n",
    "\n",
    "Maybe this class has too many responsibilities. We should separate the details of what the animal is from what we know about the pet."
   ]
  },
  {
   "cell_type": "code",
   "execution_count": 55,
   "metadata": {
    "collapsed": true
   },
   "outputs": [],
   "source": [
    "import warnings"
   ]
  },
  {
   "cell_type": "code",
   "execution_count": 73,
   "metadata": {
    "collapsed": false
   },
   "outputs": [],
   "source": [
    "class Animal:\n",
    "    def __init__(self, *, has_scales=False, lays_eggs=False, drinks_milk=False):\n",
    "        self.has_scales = has_scales\n",
    "        self.lays_eggs = lays_eggs\n",
    "        self.drinks_milk = drinks_milk\n",
    "\n",
    "class Pet:\n",
    "    def __init__(self, name, joined_family, animal=None, **kwargs):\n",
    "        self.name = name\n",
    "        self.joined_family = joined_family\n",
    "\n",
    "        if kwargs:\n",
    "            warnings.warn('Must directly pass an Animal instance', DeprecationWarning)\n",
    "            animal = Animal(**kwargs)\n",
    "        elif animal is None:\n",
    "            raise TypeError('Must supply \"animal\"')\n",
    "        \n",
    "        self.animal = animal\n",
    "\n",
    "    @property\n",
    "    def has_scales(self):\n",
    "        warnings.warn('Use animal.has_scales instead', DeprecationWarning)\n",
    "        return self.animal.has_scales\n",
    "\n",
    "    @property\n",
    "    def lays_eggs(self):\n",
    "        warnings.warn('Use animal.lays_eggs instead', DeprecationWarning)\n",
    "        return self.animal.lays_eggs\n",
    "\n",
    "    @property\n",
    "    def drinks_milk(self):\n",
    "        warnings.warn('Use animal.drinks_milk instead', DeprecationWarning)\n",
    "        return self.animal.drinks_milk\n",
    "\n",
    "    @property\n",
    "    def is_mammal(self):\n",
    "        return (\n",
    "            self.animal.drinks_milk and\n",
    "            not self.animal.has_scales and\n",
    "            not self.animal.lays_eggs)"
   ]
  },
  {
   "cell_type": "markdown",
   "metadata": {},
   "source": [
    "---\n",
    "\n",
    "Old usage keeps working"
   ]
  },
  {
   "cell_type": "code",
   "execution_count": 75,
   "metadata": {
    "collapsed": false
   },
   "outputs": [
    {
     "name": "stdout",
     "output_type": "stream",
     "text": [
      "Shadow is a mammal? True\n"
     ]
    },
    {
     "name": "stderr",
     "output_type": "stream",
     "text": [
      "/Users/bslatkin/projects/pycon2016/lib/python3.5/site-packages/ipykernel/__main__.py:13: DeprecationWarning: Must directly pass an Animal instance\n"
     ]
    }
   ],
   "source": [
    "my_pet = Pet('Shadow', adoption_date, drinks_milk=True)  # Warning expected\n",
    "print('%s is a mammal? %s' % (my_pet.name, my_pet.is_mammal))"
   ]
  },
  {
   "cell_type": "markdown",
   "metadata": {},
   "source": [
    "---\n",
    "\n",
    "Missing parameters for new usage will break like you called the function incorrectly."
   ]
  },
  {
   "cell_type": "code",
   "execution_count": 76,
   "metadata": {
    "collapsed": false
   },
   "outputs": [
    {
     "ename": "TypeError",
     "evalue": "Must supply \"animal\"",
     "output_type": "error",
     "traceback": [
      "\u001b[0;31m---------------------------------------------------------------------------\u001b[0m",
      "\u001b[0;31mTypeError\u001b[0m                                 Traceback (most recent call last)",
      "\u001b[0;32m<ipython-input-76-09f993c78a02>\u001b[0m in \u001b[0;36m<module>\u001b[0;34m()\u001b[0m\n\u001b[0;32m----> 1\u001b[0;31m \u001b[0mmy_pet\u001b[0m \u001b[0;34m=\u001b[0m \u001b[0mPet\u001b[0m\u001b[0;34m(\u001b[0m\u001b[0;34m'Shadow'\u001b[0m\u001b[0;34m,\u001b[0m \u001b[0madoption_date\u001b[0m\u001b[0;34m)\u001b[0m  \u001b[0;31m# Error expected\u001b[0m\u001b[0;34m\u001b[0m\u001b[0m\n\u001b[0m",
      "\u001b[0;32m<ipython-input-73-ddef1c424be3>\u001b[0m in \u001b[0;36m__init__\u001b[0;34m(self, name, joined_family, animal, **kwargs)\u001b[0m\n\u001b[1;32m     14\u001b[0m             \u001b[0manimal\u001b[0m \u001b[0;34m=\u001b[0m \u001b[0mAnimal\u001b[0m\u001b[0;34m(\u001b[0m\u001b[0;34m**\u001b[0m\u001b[0mkwargs\u001b[0m\u001b[0;34m)\u001b[0m\u001b[0;34m\u001b[0m\u001b[0m\n\u001b[1;32m     15\u001b[0m         \u001b[0;32melif\u001b[0m \u001b[0manimal\u001b[0m \u001b[0;32mis\u001b[0m \u001b[0;32mNone\u001b[0m\u001b[0;34m:\u001b[0m\u001b[0;34m\u001b[0m\u001b[0m\n\u001b[0;32m---> 16\u001b[0;31m             \u001b[0;32mraise\u001b[0m \u001b[0mTypeError\u001b[0m\u001b[0;34m(\u001b[0m\u001b[0;34m'Must supply \"animal\"'\u001b[0m\u001b[0;34m)\u001b[0m\u001b[0;34m\u001b[0m\u001b[0m\n\u001b[0m\u001b[1;32m     17\u001b[0m \u001b[0;34m\u001b[0m\u001b[0m\n\u001b[1;32m     18\u001b[0m         \u001b[0mself\u001b[0m\u001b[0;34m.\u001b[0m\u001b[0manimal\u001b[0m \u001b[0;34m=\u001b[0m \u001b[0manimal\u001b[0m\u001b[0;34m\u001b[0m\u001b[0m\n",
      "\u001b[0;31mTypeError\u001b[0m: Must supply \"animal\""
     ]
    }
   ],
   "source": [
    "my_pet = Pet('Shadow', adoption_date)  # Error expected"
   ]
  },
  {
   "cell_type": "markdown",
   "metadata": {},
   "source": [
    "---\n",
    "\n",
    "New usage works and no warnings."
   ]
  },
  {
   "cell_type": "code",
   "execution_count": 78,
   "metadata": {
    "collapsed": false
   },
   "outputs": [
    {
     "name": "stdout",
     "output_type": "stream",
     "text": [
      "Shadow is a mammal? True\n"
     ]
    }
   ],
   "source": [
    "animal = Animal(drinks_milk=True)\n",
    "my_pet = Pet('Shadow', adoption_date, animal)\n",
    "print('%s is a mammal? %s' % (my_pet.name, my_pet.is_mammal))"
   ]
  },
  {
   "cell_type": "markdown",
   "metadata": {},
   "source": [
    "---\n",
    "\n",
    "Now assume that all of the references have been moved to the new version."
   ]
  },
  {
   "cell_type": "code",
   "execution_count": 70,
   "metadata": {
    "collapsed": true
   },
   "outputs": [],
   "source": [
    "class Animal:\n",
    "    def __init__(self, *, has_scales=False, lays_eggs=False, drinks_milk=False):\n",
    "        self.has_scales = has_scales\n",
    "        self.lays_eggs = lays_eggs\n",
    "        self.drinks_milk = drinks_milk\n",
    "\n",
    "class Pet:\n",
    "    def __init__(self, name, joined_family, animal):\n",
    "        self.name = name\n",
    "        self.joined_family = joined_family\n",
    "        self.animal = animal\n",
    "\n",
    "    @property\n",
    "    def is_mammal(self):\n",
    "        return (\n",
    "            self.animal.drinks_milk and\n",
    "            not self.animal.has_scales and\n",
    "            not self.animal.lays_eggs)"
   ]
  },
  {
   "cell_type": "code",
   "execution_count": 71,
   "metadata": {
    "collapsed": false
   },
   "outputs": [
    {
     "name": "stdout",
     "output_type": "stream",
     "text": [
      "Shadow is a mammal? True\n"
     ]
    }
   ],
   "source": [
    "animal = Animal(drinks_milk=True)\n",
    "my_pet = Pet('Shadow', adoption_date, animal)\n",
    "print('%s is a mammal? %s' % (my_pet.name, my_pet.is_mammal))"
   ]
  },
  {
   "cell_type": "markdown",
   "metadata": {},
   "source": [
    "---\n",
    "\n",
    "Now we want to move the `is_mammal` method into the `Animal` class. It's best not to refactor too many things at the same time. The point here is you can do it piecemeal and you'll existing a transitional state where part of your APIs looks good and part of it doesn't look good yet."
   ]
  },
  {
   "cell_type": "code",
   "execution_count": 79,
   "metadata": {
    "collapsed": true
   },
   "outputs": [],
   "source": [
    "class Animal:\n",
    "    def __init__(self, *, has_scales=False, lays_eggs=False, drinks_milk=False):\n",
    "        self.has_scales = has_scales\n",
    "        self.lays_eggs = lays_eggs\n",
    "        self.drinks_milk = drinks_milk\n",
    "\n",
    "    @property\n",
    "    def is_mammal(self):\n",
    "        return (\n",
    "            self.drinks_milk and\n",
    "            not self.has_scales and\n",
    "            not self.lays_eggs)\n",
    "        \n",
    "class Pet:\n",
    "    def __init__(self, name, joined_family, animal):\n",
    "        self.name = name\n",
    "        self.joined_family = joined_family\n",
    "        self.animal = animal\n",
    "\n",
    "    @property\n",
    "    def is_mammal(self):\n",
    "        warnings.warn('Must use animal.is_mammal')\n",
    "        return self.animal.is_mammal"
   ]
  },
  {
   "cell_type": "code",
   "execution_count": 81,
   "metadata": {
    "collapsed": false
   },
   "outputs": [
    {
     "name": "stdout",
     "output_type": "stream",
     "text": [
      "Shadow is a mammal? True\n"
     ]
    },
    {
     "name": "stderr",
     "output_type": "stream",
     "text": [
      "/Users/bslatkin/projects/pycon2016/lib/python3.5/site-packages/ipykernel/__main__.py:22: UserWarning: Must use animal.is_mammal\n"
     ]
    }
   ],
   "source": [
    "animal = Animal(drinks_milk=True)\n",
    "my_pet = Pet('Shadow', adoption_date, animal)\n",
    "print('%s is a mammal? %s' % (my_pet.name, my_pet.is_mammal))  # Warning expect"
   ]
  },
  {
   "cell_type": "markdown",
   "metadata": {},
   "source": [
    "Fix all of the usages"
   ]
  },
  {
   "cell_type": "code",
   "execution_count": 82,
   "metadata": {
    "collapsed": true
   },
   "outputs": [],
   "source": [
    "class Animal:\n",
    "    def __init__(self, *, has_scales=False, lays_eggs=False, drinks_milk=False):\n",
    "        self.has_scales = has_scales\n",
    "        self.lays_eggs = lays_eggs\n",
    "        self.drinks_milk = drinks_milk\n",
    "\n",
    "    @property\n",
    "    def is_mammal(self):\n",
    "        return (\n",
    "            self.drinks_milk and\n",
    "            not self.has_scales and\n",
    "            not self.lays_eggs)\n",
    "        \n",
    "class Pet:\n",
    "    def __init__(self, name, joined_family, animal):\n",
    "        self.name = name\n",
    "        self.joined_family = joined_family\n",
    "        self.animal = animal"
   ]
  },
  {
   "cell_type": "markdown",
   "metadata": {},
   "source": [
    "Old usage stops working"
   ]
  },
  {
   "cell_type": "code",
   "execution_count": 86,
   "metadata": {
    "collapsed": false
   },
   "outputs": [
    {
     "ename": "AttributeError",
     "evalue": "'Pet' object has no attribute 'is_mammal'",
     "output_type": "error",
     "traceback": [
      "\u001b[0;31m---------------------------------------------------------------------------\u001b[0m",
      "\u001b[0;31mAttributeError\u001b[0m                            Traceback (most recent call last)",
      "\u001b[0;32m<ipython-input-86-059db338910a>\u001b[0m in \u001b[0;36m<module>\u001b[0;34m()\u001b[0m\n\u001b[1;32m      1\u001b[0m \u001b[0manimal\u001b[0m \u001b[0;34m=\u001b[0m \u001b[0mAnimal\u001b[0m\u001b[0;34m(\u001b[0m\u001b[0mdrinks_milk\u001b[0m\u001b[0;34m=\u001b[0m\u001b[0;32mTrue\u001b[0m\u001b[0;34m)\u001b[0m\u001b[0;34m\u001b[0m\u001b[0m\n\u001b[1;32m      2\u001b[0m \u001b[0mmy_pet\u001b[0m \u001b[0;34m=\u001b[0m \u001b[0mPet\u001b[0m\u001b[0;34m(\u001b[0m\u001b[0;34m'Shadow'\u001b[0m\u001b[0;34m,\u001b[0m \u001b[0madoption_date\u001b[0m\u001b[0;34m,\u001b[0m \u001b[0manimal\u001b[0m\u001b[0;34m)\u001b[0m\u001b[0;34m\u001b[0m\u001b[0m\n\u001b[0;32m----> 3\u001b[0;31m \u001b[0mprint\u001b[0m\u001b[0;34m(\u001b[0m\u001b[0;34m'%s is a mammal? %s'\u001b[0m \u001b[0;34m%\u001b[0m \u001b[0;34m(\u001b[0m\u001b[0mmy_pet\u001b[0m\u001b[0;34m.\u001b[0m\u001b[0mname\u001b[0m\u001b[0;34m,\u001b[0m \u001b[0mmy_pet\u001b[0m\u001b[0;34m.\u001b[0m\u001b[0mis_mammal\u001b[0m\u001b[0;34m)\u001b[0m\u001b[0;34m)\u001b[0m\u001b[0;34m\u001b[0m\u001b[0m\n\u001b[0m",
      "\u001b[0;31mAttributeError\u001b[0m: 'Pet' object has no attribute 'is_mammal'"
     ]
    }
   ],
   "source": [
    "animal = Animal(drinks_milk=True)\n",
    "my_pet = Pet('Shadow', adoption_date, animal)\n",
    "print('%s is a mammal? %s' % (my_pet.name, my_pet.is_mammal))"
   ]
  },
  {
   "cell_type": "markdown",
   "metadata": {},
   "source": [
    "New usage works without any problems."
   ]
  },
  {
   "cell_type": "code",
   "execution_count": 84,
   "metadata": {
    "collapsed": false
   },
   "outputs": [
    {
     "name": "stdout",
     "output_type": "stream",
     "text": [
      "Shadow is a mammal? True\n"
     ]
    }
   ],
   "source": [
    "animal = Animal(drinks_milk=True)\n",
    "my_pet = Pet('Shadow', adoption_date, animal)\n",
    "print('%s is a mammal? %s' % (my_pet.name, my_pet.animal.is_mammal))"
   ]
  }
 ],
 "metadata": {
  "kernelspec": {
   "display_name": "Python 3",
   "language": "python",
   "name": "python3"
  },
  "language_info": {
   "codemirror_mode": {
    "name": "ipython",
    "version": 3
   },
   "file_extension": ".py",
   "mimetype": "text/x-python",
   "name": "python",
   "nbconvert_exporter": "python",
   "pygments_lexer": "ipython3",
   "version": "3.5.1"
  }
 },
 "nbformat": 4,
 "nbformat_minor": 0
}
