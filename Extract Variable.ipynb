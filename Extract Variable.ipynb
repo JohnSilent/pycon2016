{
 "cells": [
  {
   "cell_type": "markdown",
   "metadata": {},
   "source": [
    "# Example 1: Extract variable\n",
    "\n",
    "[Extract variable in the refactoring catalog](http://refactoring.com/catalog/extractVariable.html)"
   ]
  },
  {
   "cell_type": "markdown",
   "metadata": {},
   "source": [
    "---\n",
    "Some logic to determine the best time to eat certain foods."
   ]
  },
  {
   "cell_type": "code",
   "execution_count": 8,
   "metadata": {
    "collapsed": false
   },
   "outputs": [],
   "source": [
    "MONTHS = ('January', 'February', 'March', 'April', 'May', 'June',\n",
    "          'July', 'August', 'September', 'October', 'November', 'December')"
   ]
  },
  {
   "cell_type": "code",
   "execution_count": 13,
   "metadata": {
    "collapsed": false
   },
   "outputs": [
    {
     "name": "stdout",
     "output_type": "stream",
     "text": [
      "February is a good time to eat oysters\n"
     ]
    }
   ],
   "source": [
    "import random\n",
    "choice = random.choice(MONTHS)\n",
    "\n",
    "if (choice.lower().endswith('r') or\n",
    "        choice.lower().endswith('ary')):\n",
    "    print('%s is a good time to eat oysters' % choice)\n",
    "elif 8 > MONTHS.index(choice) > 4:\n",
    "    print('%s is a good time to eat tomatoes' % choice)\n",
    "else:\n",
    "    print('%s is a good time to eat asparagus' % choice)"
   ]
  },
  {
   "cell_type": "markdown",
   "metadata": {},
   "source": [
    "---\n",
    "\n",
    "Python creates temporaries for every expression, so there's no cost in extracting variables for the sake of clarity."
   ]
  },
  {
   "cell_type": "code",
   "execution_count": 14,
   "metadata": {
    "collapsed": false
   },
   "outputs": [
    {
     "name": "stdout",
     "output_type": "stream",
     "text": [
      "February is a good time to eat oysters\n"
     ]
    }
   ],
   "source": [
    "lowered = choice.lower()\n",
    "ends_in_r = lowered.endswith('r')\n",
    "ends_in_ary = lowered.endswith('ary')\n",
    "summer = 8 > MONTHS.index(choice) > 4\n",
    "\n",
    "if ends_in_r or ends_in_ary:\n",
    "    print('%s is a good time to eat oysters' % choice)\n",
    "elif summer:\n",
    "    print('%s is a good time to eat tomatoes' % choice)\n",
    "else:\n",
    "    print('%s is a good time to eat asparagus' % choice)"
   ]
  },
  {
   "cell_type": "markdown",
   "metadata": {},
   "source": [
    "---\n",
    "\n",
    "If the logic is getting complicated move it into a helper class that determines the condition based on parameters."
   ]
  },
  {
   "cell_type": "code",
   "execution_count": 17,
   "metadata": {
    "collapsed": false
   },
   "outputs": [],
   "source": [
    "def oysters_good(choice):\n",
    "    choice_lowered = choice.lower()\n",
    "    return (\n",
    "        choice_lowered.endswith('r') or\n",
    "        choice_lowered.endswith('ary'))\n",
    "\n",
    "def tomatoes_good(choice):\n",
    "    index = MONTHS.index(choice)\n",
    "    return 8 > index > 4"
   ]
  },
  {
   "cell_type": "code",
   "execution_count": 18,
   "metadata": {
    "collapsed": false
   },
   "outputs": [
    {
     "name": "stdout",
     "output_type": "stream",
     "text": [
      "February is a good time to eat oysters\n"
     ]
    }
   ],
   "source": [
    "time_for_oysters = oysters_good(choice)\n",
    "time_for_tomatoes = tomatoes_good(choice)\n",
    "\n",
    "if time_for_oysters:\n",
    "    print('%s is a good time to eat oysters' % choice)\n",
    "elif time_for_tomatoes:\n",
    "    print('%s is a good time to eat tomatoes' % choice)\n",
    "else:\n",
    "    print('%s is a good time to eat asparagus' % choice)"
   ]
  },
  {
   "cell_type": "markdown",
   "metadata": {},
   "source": [
    "---\n",
    "\n",
    "Alternatively, implement `__nonzero__` or `__bool__` so you can drop the object in place of the old expression. This can reduce the number of delta lines in a refactoring commit, which makes a refactoring feel less scary. It can also be easier to read."
   ]
  },
  {
   "cell_type": "code",
   "execution_count": 27,
   "metadata": {
    "collapsed": false
   },
   "outputs": [],
   "source": [
    "class OystersGood:\n",
    "    def __init__(self, choice):\n",
    "        choice = choice\n",
    "        choice_lowered = choice.lower()\n",
    "        self.ends_in_r = choice_lowered.endswith('r')\n",
    "        self.ends_in_ary = choice_lowered.endswith('ary')\n",
    "        self._result = self.ends_in_r or self.ends_in_ary\n",
    "\n",
    "    def __bool__(self):  # Equivalent to __nonzero__ in Python 2\n",
    "        return self._result\n",
    "            \n",
    "\n",
    "class TomatoesGood:\n",
    "    def __init__(self, choice):\n",
    "        self.index = MONTHS.index(choice)\n",
    "        self._result = 8 > self.index > 4\n",
    "    \n",
    "    def __bool__(self):  # Equivalent to __nonzero__ in Python 2\n",
    "        return self._result"
   ]
  },
  {
   "cell_type": "code",
   "execution_count": 28,
   "metadata": {
    "collapsed": false
   },
   "outputs": [
    {
     "name": "stdout",
     "output_type": "stream",
     "text": [
      "February is a good time to eat oysters\n"
     ]
    }
   ],
   "source": [
    "time_for_oysters = OystersGood(choice)\n",
    "time_for_tomatoes = TomatoesGood(choice)\n",
    "\n",
    "if time_for_oysters:\n",
    "    print('%s is a good time to eat oysters' % choice)\n",
    "elif time_for_tomatoes:\n",
    "    print('%s is a good time to eat tomatoes' % choice)\n",
    "else:\n",
    "    print('%s is a good time to eat asparagus' % choice)"
   ]
  },
  {
   "cell_type": "markdown",
   "metadata": {},
   "source": [
    "---\n",
    "\n",
    "Now the helper function is easy to test and introspect."
   ]
  },
  {
   "cell_type": "code",
   "execution_count": 29,
   "metadata": {
    "collapsed": true
   },
   "outputs": [],
   "source": [
    "test = OystersGood('November')\n",
    "assert test\n",
    "assert test.ends_in_r\n",
    "assert not test.ends_in_ary\n",
    "\n",
    "test = OystersGood('July')\n",
    "assert not test\n",
    "assert not test.ends_in_r\n",
    "assert not test.ends_in_ary"
   ]
  }
 ],
 "metadata": {
  "kernelspec": {
   "display_name": "Python 3",
   "language": "python",
   "name": "python3"
  },
  "language_info": {
   "codemirror_mode": {
    "name": "ipython",
    "version": 3
   },
   "file_extension": ".py",
   "mimetype": "text/x-python",
   "name": "python",
   "nbconvert_exporter": "python",
   "pygments_lexer": "ipython3",
   "version": "3.5.1"
  }
 },
 "nbformat": 4,
 "nbformat_minor": 0
}
